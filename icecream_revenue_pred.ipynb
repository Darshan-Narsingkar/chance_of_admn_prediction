{
  "nbformat": 4,
  "nbformat_minor": 0,
  "metadata": {
    "colab": {
      "provenance": [],
      "authorship_tag": "ABX9TyOTV/heAtLYwiG4ATT8zOQu",
      "include_colab_link": true
    },
    "kernelspec": {
      "name": "python3",
      "display_name": "Python 3"
    },
    "language_info": {
      "name": "python"
    }
  },
  "cells": [
    {
      "cell_type": "markdown",
      "metadata": {
        "id": "view-in-github",
        "colab_type": "text"
      },
      "source": [
        "<a href=\"https://colab.research.google.com/github/Darshan-Narsingkar/chance_of_admn_prediction.github.io/blob/main/icecream_revenue_pred.ipynb\" target=\"_parent\"><img src=\"https://colab.research.google.com/assets/colab-badge.svg\" alt=\"Open In Colab\"/></a>"
      ]
    },
    {
      "cell_type": "code",
      "execution_count": 1,
      "metadata": {
        "id": "vneLazZNOHCa"
      },
      "outputs": [],
      "source": [
        "# step 1: import library\n",
        "import pandas as pd"
      ]
    },
    {
      "cell_type": "code",
      "source": [
        "# step 2: import data\n",
        "icecream = pd.read_csv('https://github.com/YBI-Foundation/Dataset/raw/main/Ice%20Cream.csv')"
      ],
      "metadata": {
        "id": "EBJH1GLQOnE9"
      },
      "execution_count": 2,
      "outputs": []
    },
    {
      "cell_type": "code",
      "source": [
        "icecream.head()"
      ],
      "metadata": {
        "colab": {
          "base_uri": "https://localhost:8080/",
          "height": 742
        },
        "id": "oEboixK2POjp",
        "outputId": "d685cea9-4421-4a9f-aa23-057dc5abcbaf"
      },
      "execution_count": 3,
      "outputs": [
        {
          "output_type": "execute_result",
          "data": {
            "text/plain": [
              "   Temperature  Revenue\n",
              "0         24.6      535\n",
              "1         26.1      626\n",
              "2         27.8      661\n",
              "3         20.6      488\n",
              "4         11.6      317"
            ],
            "text/html": [
              "\n",
              "  <div id=\"df-0d46b274-31bb-487b-bab2-a0fa3c5e4c9f\" class=\"colab-df-container\">\n",
              "    <div>\n",
              "<style scoped>\n",
              "    .dataframe tbody tr th:only-of-type {\n",
              "        vertical-align: middle;\n",
              "    }\n",
              "\n",
              "    .dataframe tbody tr th {\n",
              "        vertical-align: top;\n",
              "    }\n",
              "\n",
              "    .dataframe thead th {\n",
              "        text-align: right;\n",
              "    }\n",
              "</style>\n",
              "<table border=\"1\" class=\"dataframe\">\n",
              "  <thead>\n",
              "    <tr style=\"text-align: right;\">\n",
              "      <th></th>\n",
              "      <th>Temperature</th>\n",
              "      <th>Revenue</th>\n",
              "    </tr>\n",
              "  </thead>\n",
              "  <tbody>\n",
              "    <tr>\n",
              "      <th>0</th>\n",
              "      <td>24.6</td>\n",
              "      <td>535</td>\n",
              "    </tr>\n",
              "    <tr>\n",
              "      <th>1</th>\n",
              "      <td>26.1</td>\n",
              "      <td>626</td>\n",
              "    </tr>\n",
              "    <tr>\n",
              "      <th>2</th>\n",
              "      <td>27.8</td>\n",
              "      <td>661</td>\n",
              "    </tr>\n",
              "    <tr>\n",
              "      <th>3</th>\n",
              "      <td>20.6</td>\n",
              "      <td>488</td>\n",
              "    </tr>\n",
              "    <tr>\n",
              "      <th>4</th>\n",
              "      <td>11.6</td>\n",
              "      <td>317</td>\n",
              "    </tr>\n",
              "  </tbody>\n",
              "</table>\n",
              "</div>\n",
              "    <div class=\"colab-df-buttons\">\n",
              "\n",
              "  <div class=\"colab-df-container\">\n",
              "    <button class=\"colab-df-convert\" onclick=\"convertToInteractive('df-0d46b274-31bb-487b-bab2-a0fa3c5e4c9f')\"\n",
              "            title=\"Convert this dataframe to an interactive table.\"\n",
              "            style=\"display:none;\">\n",
              "\n",
              "  <svg xmlns=\"http://www.w3.org/2000/svg\" height=\"24px\" viewBox=\"0 -960 960 960\">\n",
              "    <path d=\"M120-120v-720h720v720H120Zm60-500h600v-160H180v160Zm220 220h160v-160H400v160Zm0 220h160v-160H400v160ZM180-400h160v-160H180v160Zm440 0h160v-160H620v160ZM180-180h160v-160H180v160Zm440 0h160v-160H620v160Z\"/>\n",
              "  </svg>\n",
              "    </button>\n",
              "\n",
              "  <style>\n",
              "    .colab-df-container {\n",
              "      display:flex;\n",
              "      gap: 12px;\n",
              "    }\n",
              "\n",
              "    .colab-df-convert {\n",
              "      background-color: #E8F0FE;\n",
              "      border: none;\n",
              "      border-radius: 50%;\n",
              "      cursor: pointer;\n",
              "      display: none;\n",
              "      fill: #1967D2;\n",
              "      height: 32px;\n",
              "      padding: 0 0 0 0;\n",
              "      width: 32px;\n",
              "    }\n",
              "\n",
              "    .colab-df-convert:hover {\n",
              "      background-color: #E2EBFA;\n",
              "      box-shadow: 0px 1px 2px rgba(60, 64, 67, 0.3), 0px 1px 3px 1px rgba(60, 64, 67, 0.15);\n",
              "      fill: #174EA6;\n",
              "    }\n",
              "\n",
              "    .colab-df-buttons div {\n",
              "      margin-bottom: 4px;\n",
              "    }\n",
              "\n",
              "    [theme=dark] .colab-df-convert {\n",
              "      background-color: #3B4455;\n",
              "      fill: #D2E3FC;\n",
              "    }\n",
              "\n",
              "    [theme=dark] .colab-df-convert:hover {\n",
              "      background-color: #434B5C;\n",
              "      box-shadow: 0px 1px 3px 1px rgba(0, 0, 0, 0.15);\n",
              "      filter: drop-shadow(0px 1px 2px rgba(0, 0, 0, 0.3));\n",
              "      fill: #FFFFFF;\n",
              "    }\n",
              "  </style>\n",
              "\n",
              "    <script>\n",
              "      const buttonEl =\n",
              "        document.querySelector('#df-0d46b274-31bb-487b-bab2-a0fa3c5e4c9f button.colab-df-convert');\n",
              "      buttonEl.style.display =\n",
              "        google.colab.kernel.accessAllowed ? 'block' : 'none';\n",
              "\n",
              "      async function convertToInteractive(key) {\n",
              "        const element = document.querySelector('#df-0d46b274-31bb-487b-bab2-a0fa3c5e4c9f');\n",
              "        const dataTable =\n",
              "          await google.colab.kernel.invokeFunction('convertToInteractive',\n",
              "                                                    [key], {});\n",
              "        if (!dataTable) return;\n",
              "\n",
              "        const docLinkHtml = 'Like what you see? Visit the ' +\n",
              "          '<a target=\"_blank\" href=https://colab.research.google.com/notebooks/data_table.ipynb>data table notebook</a>'\n",
              "          + ' to learn more about interactive tables.';\n",
              "        element.innerHTML = '';\n",
              "        dataTable['output_type'] = 'display_data';\n",
              "        await google.colab.output.renderOutput(dataTable, element);\n",
              "        const docLink = document.createElement('div');\n",
              "        docLink.innerHTML = docLinkHtml;\n",
              "        element.appendChild(docLink);\n",
              "      }\n",
              "    </script>\n",
              "  </div>\n",
              "\n",
              "\n",
              "<div id=\"df-28b4315e-f994-44fd-9df6-885fc5fe5a65\">\n",
              "  <button class=\"colab-df-quickchart\" onclick=\"quickchart('df-28b4315e-f994-44fd-9df6-885fc5fe5a65')\"\n",
              "            title=\"Suggest charts.\"\n",
              "            style=\"display:none;\">\n",
              "\n",
              "<svg xmlns=\"http://www.w3.org/2000/svg\" height=\"24px\"viewBox=\"0 0 24 24\"\n",
              "     width=\"24px\">\n",
              "    <g>\n",
              "        <path d=\"M19 3H5c-1.1 0-2 .9-2 2v14c0 1.1.9 2 2 2h14c1.1 0 2-.9 2-2V5c0-1.1-.9-2-2-2zM9 17H7v-7h2v7zm4 0h-2V7h2v10zm4 0h-2v-4h2v4z\"/>\n",
              "    </g>\n",
              "</svg>\n",
              "  </button>\n",
              "\n",
              "<style>\n",
              "  .colab-df-quickchart {\n",
              "    background-color: #E8F0FE;\n",
              "    border: none;\n",
              "    border-radius: 50%;\n",
              "    cursor: pointer;\n",
              "    display: none;\n",
              "    fill: #1967D2;\n",
              "    height: 32px;\n",
              "    padding: 0 0 0 0;\n",
              "    width: 32px;\n",
              "  }\n",
              "\n",
              "  .colab-df-quickchart:hover {\n",
              "    background-color: #E2EBFA;\n",
              "    box-shadow: 0px 1px 2px rgba(60, 64, 67, 0.3), 0px 1px 3px 1px rgba(60, 64, 67, 0.15);\n",
              "    fill: #174EA6;\n",
              "  }\n",
              "\n",
              "  [theme=dark] .colab-df-quickchart {\n",
              "    background-color: #3B4455;\n",
              "    fill: #D2E3FC;\n",
              "  }\n",
              "\n",
              "  [theme=dark] .colab-df-quickchart:hover {\n",
              "    background-color: #434B5C;\n",
              "    box-shadow: 0px 1px 3px 1px rgba(0, 0, 0, 0.15);\n",
              "    filter: drop-shadow(0px 1px 2px rgba(0, 0, 0, 0.3));\n",
              "    fill: #FFFFFF;\n",
              "  }\n",
              "</style>\n",
              "\n",
              "  <script>\n",
              "    async function quickchart(key) {\n",
              "      const charts = await google.colab.kernel.invokeFunction(\n",
              "          'suggestCharts', [key], {});\n",
              "    }\n",
              "    (() => {\n",
              "      let quickchartButtonEl =\n",
              "        document.querySelector('#df-28b4315e-f994-44fd-9df6-885fc5fe5a65 button');\n",
              "      quickchartButtonEl.style.display =\n",
              "        google.colab.kernel.accessAllowed ? 'block' : 'none';\n",
              "    })();\n",
              "  </script>\n",
              "</div>\n",
              "    </div>\n",
              "  </div>\n"
            ]
          },
          "metadata": {},
          "execution_count": 3
        },
        {
          "output_type": "display_data",
          "data": {
            "text/plain": [
              "<google.colab._quickchart_helpers.SectionTitle at 0x7a9381a62f20>"
            ],
            "text/html": [
              "<h4 class=\"colab-quickchart-section-title\">Values</h4>\n",
              "<style>\n",
              "  .colab-quickchart-section-title {\n",
              "      clear: both;\n",
              "  }\n",
              "</style>"
            ]
          },
          "metadata": {}
        },
        {
          "output_type": "display_data",
          "data": {
            "text/plain": [
              "import numpy as np\n",
              "from google.colab import autoviz\n",
              "\n",
              "def value_plot(df, y, figscale=1):\n",
              "  from matplotlib import pyplot as plt\n",
              "  df[y].plot(kind='line', figsize=(8 * figscale, 4 * figscale), title=y)\n",
              "  plt.gca().spines[['top', 'right']].set_visible(False)\n",
              "  plt.tight_layout()\n",
              "  return autoviz.MplChart.from_current_mpl_state()\n",
              "\n",
              "chart = value_plot(_df_0, *['Temperature'], **{})\n",
              "chart"
            ],
            "text/html": [
              "      <div class=\"colab-quickchart-chart-with-code\" id=\"chart-8148a05d-fd4a-4840-950a-c64dc7f70888\">\n",
              "        <img src=\"data:image/png;base64,iVBORw0KGgoAAAANSUhEUgAAAMQAAABgCAYAAABCK92TAAAAOXRFWHRTb2Z0d2FyZQBNYXRwbG90\n",
              "bGliIHZlcnNpb24zLjcuMSwgaHR0cHM6Ly9tYXRwbG90bGliLm9yZy/bCgiHAAAACXBIWXMAAA9h\n",
              "AAAPYQGoP6dpAAASEElEQVR4nO3deVBT594H8O8hGwRC2AkWTKCIV4WCxSUWronX8dXaRV672GtF\n",
              "aGEQbt9x49a9RaczOm9FKq2tdqhvrG1dS7XTmeqtqGioXolaXGqLsYqCEDbZNfvz/hFJk4sgSzBB\n",
              "n89MRs5zcp78Tnx+5+Q55znnMIQQAoqiAABuzg6AolwJTQiKskETgqJs0ISgKBs0ISjKBk0IirJB\n",
              "E4KibNCEoCgbNCEoygZNCIqyQRPChpeXl/XF5XLBYrHsypRKpbNDdBi5XI41a9Y4OwyXw3Z2AK6k\n",
              "vb3d+veaNWtQUlKC4uJi5wXUD3q9Hlwu95F9nsFgAIfDeWSfN9joHqKXtFotVq1ahaeffhq+vr6Y\n",
              "PHkyfvnlF+v8tWvXIjExEe+//z5CQkLg7e2NZcuWoampCXPmzIFQKIREIsH3339vXWbHjh0IDQ1F\n",
              "fn4+QkND4e/vj7ffftsuMZubm5GVlQWxWAx/f3/MnDkT169ft85PTU3F66+/jqysLAQGBmLWrFkA\n",
              "gIyMDEgkEnh5eSE8PBw5OTkwm80AgMzMTCiVSnz44YfWvZ/tOthKTU3FvHnzrNMSiQQ5OTmYMWMG\n",
              "BAIBNm3aBADYuXMnYmNjIRQKMWbMGOzZs8dRX/2jRagHWr16NZHJZNbplJQUMnXqVFJZWUkMBgP5\n",
              "5JNPSGBgIGlqaiKEEJKTk0PYbDbZvHkz0ev1pLS0lLDZbBIfH09OnjxJTCYT2bRpE/H19SUdHR2E\n",
              "EEIUCgVhsVgkNTWVtLe3k6qqKjJu3DiSnp5OCCHEbDYTuVxO5s6dSxobG4lWqyXLli0jo0aNInq9\n",
              "3hoXm80m27dvJ3q93lp3QUEB0Wg0xGw2k9OnTxM/Pz+ybds26/rIZDKyevVqu3XOyckhCQkJdmUp\n",
              "KSnkzTfftE6LxWISHBxMTp06RcxmM+no6CAKhYKEhYURlUpFTCYTUSqVRCAQEKVS6Zj/jEeIJkQ3\n",
              "bBOioaGBACC///673XsiIyPJV199RQixNKaIiAi7+XFxcSQjI8M63VlPWVkZIcSSEG5ubqS5udn6\n",
              "nh9//JFwOBxiNBrJuXPnCIfDIW1tbdb5RqORuLu7WxtbSkoKkUqlD12fhQsXktmzZ1unB5IQK1as\n",
              "sHtPTEyMXbIRQkh6ejpJS0t7aFyuhvYheuHatWsAgIkTJ9qV6/V6VFVVWadDQkLs5nt6etqVeXp6\n",
              "AgDa2tqsZb6+vhAKhdbp8PBwGAwG1NbWQq1Ww2g0IjQ0tEtMlZWVdsvYIoRg/fr12LVrF6qrq0EI\n",
              "gVarxfjx43u9zj35z89Tq9XIzs7G8uXLrWVGoxGTJ092yOc9SjQhekEkEgEALl68iOHDhzu07qam\n",
              "JrS0tFiToqKiAhwOB8HBwRCJROByuaivr++x4+rmZt8V3LNnDzZv3ozDhw8jLi4OLBYLixYtwrlz\n",
              "57pdBgAEAgE6OjrsyqqrqxEUFNTj54lEIqxbtw7z58/v3Uq7MNqp7gWxWIykpCS88847uHnzJgDL\n",
              "Vv7QoUOoqakZUN0MwyA7OxsdHR2orq5GTk4OkpOTwWKxkJiYiOjoaGRlZaGurg6AJYEKCwtx9+7d\n",
              "butsaWkBm81GUFAQGIbB8ePH8fXXX9u9RyQS4erVq3Zl48aNw6VLl1BSUgKTyYT9+/fj5MmTD12H\n",
              "xYsX44MPPoBKpYLZbIZOp4NKpbJLwKGCJkQv7dq1C/Hx8Zg2bRoEAgFGjhyJgoICkAFegSsSiRAT\n",
              "E4OoqChER0dj1KhR2Lx5MwCAxWLhyJEj4PP5mDhxIgQCAWJjY3HgwAEwDNNtnampqZg6dSpiYmIQ\n",
              "EBCAbdu22R0pAoDs7GyUl5fD19cXPj4+AACZTIZVq1Zh9uzZCAwMRHFxMV555ZWHrsOiRYuwdu1a\n",
              "ZGZmws/PD0899RTefffdLnuboYAhA/0fpfptx44dWLNmjV0/hHIuuoegKBs0ISjKBv3JRFE26B6C\n",
              "omzQhKAoGzQhKMoGTQiKsuEyCZGfn+/sECjKdcYydQ6JeNIZTWbUt+ugadGitlVr+bdNh9oWLTSt\n",
              "lld9qw6hfnykPifGrLin4M5hOTvsx4bLJMTjjhCCVq3R2sg1rVrUtmhR26aFpkVnKW/VoqFdh94c\n",
              "CP+tphXLCy/hw8PlmCcVI3mSGAFevMFfkcccTQgH0BvNqGvr3KLroGnVou5+A+/c0te26nDPYOpV\n",
              "fWw3BsHe7gjy5kHk7Y5gb3eIhO4Q3S8L9OKhuLweip9voLpFi/yjamw98QeS4oYhLTECI0WCQV7j\n",
              "x1efEkKr1eKNN97AlStX4OHhgaCgIGzduhWRkZGQy+W4efOmdRhzSkoKlixZMihBPyp6oxmNHTrU\n",
              "t+nQ0K5DXaulsde26v78OdOqRWOHvtd1Cj04lkYudIeos8EL3REssDT6YG93+Hty4ebW/eA9ABgR\n",
              "LMBbCRIcuqzBFyU3cKGyGfvOVmHf2Sr8dUQA0hLDIYsK7HEQINVVn/cQGRkZeP7558EwDLZs2YL0\n",
              "9HTrhfgfffQRkpKSHByiY5nMxKaR662Nvb5NZ/93uw7Ndw29rpfLcvtzi35/ax7szbNs3b3/bOyO\n",
              "/L3PZrnhpdhhePGZEJy/1YTtJTdw+LIGSnUDlOoGRAZ5IS0xHP89lvYzeqtPCeHu7o6ZM2dap6VS\n",
              "KXJzcx0eVF+ZzQTN9wwPbtj3G3dn2Z0OPcx9GKzCdmPg78VFoICHAK+uP2GC7zd8P0+u07bGDMMg\n",
              "XuyHeLEfKu/cxY5TFdirqsS1unas/O4SNv6rHPMmDse8SWIECdydEuNQMaCxTMnJyfDz80N+fj7k\n",
              "cjk0Gg04HA5Gjx6NDRs2ICIi4oHL6XQ66HQ6u7L33nuvy6FXrcGE2833ujRy2614Q5seDe06GPvQ\n",
              "yhkG8PfkIsCLh0CB5Td5oIBnbfS2//p4cB7688UVtWkN2KuqhOLnCtxuvgfAshd7OW4Y0hLDMSrE\n",
              "28kRuqZ+J8T69evxww8/4OjRo+Dz+aisrERYWBgIIfj000/x2Wef4cqVKw9cdu3atVi3bp1dmVQq\n",
              "xenTp+3KDl+uQebX53sdkw+fY23cAQ9s5JYtvR+fCzbLZU7BDCqjyYyfrtTiC+V1nL/VbC1PiPRH\n",
              "emIEZFGBQzLhB0u/EiI3Nxd79uxBUVGR9Wqr/+Tu7o7bt2/D39+/y7ze7iHOVtzBWwqVpTF32ZJz\n",
              "72/d3REg4MLfkwcu+8lo5P1l288w3d+jRgR64u2EcLzybCg8uLSf0eeEyMvLwzfffIOioiL4+voC\n",
              "sNxhobGxEcHBwQCAwsJCLF26tE8n25YuXYq8vDy7MkIIPUoyCKqa7uLLUxXYU1qJNp0RgGXvOm+i\n",
              "GPMniRHk/eT2M/qUEFVVVQgLC0NERAQEAsuxbh6Ph2PHjkEmk0Gn08HNzQ0BAQHIy8tDbGxsrwN5\n",
              "UEJQg6tdZ8Q+VSUUp26g8o6ln8FhMXgp1tLPGDNM+JAaHj8uc4EQTQjnMZkJjlzR4AvlDZy92WQt\n",
              "nxThj7TEcPztL0FPTD+DnqmmwHJjMCM6BDOiQ1BW2YztJTfw46UanL7eiNPXGxEe4Im3EyR4JT4U\n",
              "fO7j3WToHoJ6oOrme/jyVAV2ld5Cm9bSzxB6cDB34nCkTJJAJHw8+xl9Oiyj1WqRlJSEqKgoxMbG\n",
              "Ytq0adbbPNbV1WHGjBkYMWIEoqOje3WDK8p1DfPxwMqZo/DvlVOx9qXREPvz0XLPgK3FfyDxf49h\n",
              "8Z5fcKmqxdlhOlyfj1NmZGSgvLwcFy5cwKxZs5Ceng4AWLFiBaRSKdRqNRQKBebOnQuDofdDHyjX\n",
              "5MljIzUhHMey5fg8OR4Twv1gNBMcLKvGS1tK8Prnp3HqjwZnh+kwfUqIzqEbnYdCpVIpKioqAAD7\n",
              "9u1DZmYmAGD8+PEYNmwYTpw44dhoKadhuTGYPkaEfQsm4Yf/SURS3DCw3RiU3riDuQVnkP6lCtfq\n",
              "2h5ekYsb0Jms/Px8zJo1C42NjTAYDNabAgOWB2vcunXrgcvpdDq0trbavUym3g2NppwvJlSIzW+M\n",
              "hXL5FCRLxWC5MSj6rQ7TNyux+sAl1LfpHl6Ji+p3Qqxfvx7Xrl3Dhg0b+rzshg0bIBQK7V6lpaX9\n",
              "DYVykhChBz5IisZPSyZj2uhgmMwE35y5BfnG49hyTI17+qG3ketXQuTm5uK7777DoUOHwOfz4e/v\n",
              "DzabDY1GY31PRUVFt7eOX7lyJVpaWuxeEyZM6N8aUE73dKAXCuaPw94MKZ4JFaJDb0LuT1cxJbcY\n",
              "356rsg4TGQr6nBB5eXnYvXs3jhw5YjeO6bXXXsO2bdsAACqVCrdv34ZMJntgHTweD97e3nYvFouO\n",
              "oxnqJkb44+A/EpD/Rhye8vGAplWLf+6/gJc+KUGJemh0vB0ydOPMmTOora1FcnIybty4AS6Xiy1b\n",
              "tmDKlCm9DoSeh3i8aA0mfHmqAluOX7Oex5CPDMTK50e59CWu9MQcNajudOjx8VE1vv73TRjNBG4M\n",
              "MGd8GJZMi3LJi5XoeGlqUPl5crH25TE4slSGGWNEMBNgd2kl5BuLkV+kxl290dkh2ulTQixcuBAS\n",
              "iQQMw6CsrMxaLpFIMHLkSMTFxSEuLg579+51dJzUEBce4IltyfHYnzkJsWE+uKs34aOiq5BvLMY+\n",
              "VaXLdLz7lBCvvvoqSkpKIBaLu8zbu3cvysrKUFZWhjlz5jgsQOrxMl7ih4P/eA6f/H0swvw8UNem\n",
              "w7LCi3jhYyVOXq13dnh9S4jJkyc/8BGxFNUXDGO55qJoqQxrXhgFb3c2fte0Yf7/lSJ5+xn8VtPq\n",
              "tNgc1oeYP38+YmJikJaWhvr6njOdnqmmAIDHZiH9rxE4uWwK0hLDwWExUKobMPNjJZZ9ewG1rdpH\n",
              "HpNDEuLkyZO4ePEizp8/j4CAAKSkpPT4fnqmmrLlw+fivRdHo2ipDC/EhIAQYN/ZKsg3FiPvyFV0\n",
              "6B5dx7tfh10lEgkOHjyIuLi4LvNqamoQFRWFtrbuB3r19iYD1JPp3M0mrP/xN5y7f/VegBcP2f8V\n",
              "hdfiQwf9bikDrr2jowPNzc3W6d27d2Ps2LE9LkPPVFM9iRf74tvMSdj65rMQ+/PR0K7Dyu8uYebH\n",
              "Shwvrxvws8F70qeEWLBgAUJDQ1FVVYXp06cjMjIStbW1mDJlCp555hnExMTgxIkT2Llz52DFSz0h\n",
              "GIbB8zEhOLJEhvdfHA0fPgdXa9vxlkKF5O2l+LV6cC5OomeqqSGh5a4BnxZfw46fK6A3mcEwwOyx\n",
              "ofjn9CiECD0c9jn0TDU1JAj5HKyaOQpHs2V4OXYYCAEKz1dhSm4xcv9VjnYHdbxpQlBDSpgfHx//\n",
              "fSwOvpOACRI/aA1mbDl+DfKNxy3jpUzmAdVPE4IakuLCfLB3gRSfJ8cjPMATDe16rDl4GT//0Tig\n",
              "eh/vm+xQjzWGsVzn/be/BGHXmVs4c6MRk0cEDKxOV+lUz549GxKJpEu5yWRCaWkpJkyYQA/N3ke/\n",
              "k64e9p2IxWIsWrToofW4TEJ0p7W1FUKhEC0tLfD2ps80AOh38iCO+k5oH4KibNCEoCgbNCEoyobL\n",
              "JwSPx0NOTg54PPpQ8k70O+nKUd+Jy3eqKepRcvk9BEU9SjQhKMoGTQiKsuHSCaFWq/Hcc88hKioK\n",
              "48ePx6+//urskJyqpwfWUIBCoQDDMDh48GC/63DphFiwYAEyMjJw9epVLF++HKmpqc4Oyem6e2DN\n",
              "k66iogIFBQWQSqUDq4i4qNraWiIQCIjBYCCEEGI2m0lwcDBRq9VOjsx1qFQqIhaLnR2G05lMJjJ1\n",
              "6lRy9uxZIpPJyIEDB/pdl8vuISorKxESEgI22zIgl2EYDB8+vNuHsDyJOh9Y86TLy8tDQkIC4uPj\n",
              "B1wXHf49RHU+sObo0aPODsWpLl++jMLCQoc95NNlEyIsLAw1NTUwGo1gs9kghODWrVvdPoTlSdL5\n",
              "wJqioiLw+Xxnh+NUSqUSFRUVGDFiBABAo9EgIyMDNTU1yMrK6nuFDvshNwhkMhlRKBSEEEL2799P\n",
              "4uPjnRuQC9i0aRN59tlnyZ07d5wdiksaaB/CpYdulJeXIzU1FY2NjfD29oZCoUBMTIyzw3Kanh5Y\n",
              "Q1nI5XIsXrwYSUlJ/VrepROCoh41lz3KRFHOQBOComzQhKAoGzQhKMoGTQiKskETgqJs0ISgKBs0\n",
              "ISjKBk0IirJBE4KibNCEoCgb/w+3gdgOI8bzigAAAABJRU5ErkJggg==\n",
              "\">\n",
              "        \n",
              "      </div>\n",
              "      <script></script>\n",
              "      <script type=\"text/javascript\">\n",
              "        (() => {\n",
              "          const chartElement = document.getElementById(\"chart-8148a05d-fd4a-4840-950a-c64dc7f70888\");\n",
              "          async function getCodeForChartHandler(event) {\n",
              "            const chartCodeResponse =  await google.colab.kernel.invokeFunction(\n",
              "                'getCodeForChart', [\"chart-8148a05d-fd4a-4840-950a-c64dc7f70888\"], {});\n",
              "            const responseJson = chartCodeResponse.data['application/json'];\n",
              "            await google.colab.notebook.addCell(responseJson.code, 'code');\n",
              "          }\n",
              "          chartElement.onclick = getCodeForChartHandler;\n",
              "        })();\n",
              "      </script>\n",
              "      <style>\n",
              "        .colab-quickchart-chart-with-code  {\n",
              "            display: block;\n",
              "            float: left;\n",
              "            border: 1px solid transparent;\n",
              "        }\n",
              "\n",
              "        .colab-quickchart-chart-with-code:hover {\n",
              "            cursor: pointer;\n",
              "            border: 1px solid #aaa;\n",
              "        }\n",
              "      </style>"
            ]
          },
          "metadata": {}
        },
        {
          "output_type": "display_data",
          "data": {
            "text/plain": [
              "import numpy as np\n",
              "from google.colab import autoviz\n",
              "\n",
              "def value_plot(df, y, figscale=1):\n",
              "  from matplotlib import pyplot as plt\n",
              "  df[y].plot(kind='line', figsize=(8 * figscale, 4 * figscale), title=y)\n",
              "  plt.gca().spines[['top', 'right']].set_visible(False)\n",
              "  plt.tight_layout()\n",
              "  return autoviz.MplChart.from_current_mpl_state()\n",
              "\n",
              "chart = value_plot(_df_1, *['Revenue'], **{})\n",
              "chart"
            ],
            "text/html": [
              "      <div class=\"colab-quickchart-chart-with-code\" id=\"chart-2dfb4656-1fdb-4db6-b2c3-05450f0a071d\">\n",
              "        <img src=\"data:image/png;base64,iVBORw0KGgoAAAANSUhEUgAAAMQAAABgCAYAAABCK92TAAAAOXRFWHRTb2Z0d2FyZQBNYXRwbG90\n",
              "bGliIHZlcnNpb24zLjcuMSwgaHR0cHM6Ly9tYXRwbG90bGliLm9yZy/bCgiHAAAACXBIWXMAAA9h\n",
              "AAAPYQGoP6dpAAARIElEQVR4nO3deXRTZf7H8Xe6pKWQpBJKF+giXQCh0xkWqbTQamXAjiMIjgvK\n",
              "NEKtFo8KIosepaCOiAIz6A89WrDO/DqOh4p1HHGAskipLGWpDKC0KaW0LF3S0hW6JH1+fxTzSxyW\n",
              "li5pyvM6JydtnuTeb+65n3tzc5/nRiGEEEiSBICDrQuQpJ5EBkKSLMhASJIFGQhJsiADIUkWZCAk\n",
              "yYIMhCRZkIGQJAsyEJJkQQZCkizIQHSR6OholEol/fr1Q61WM2LECD766CNblyXdgAxEF1q0aBF1\n",
              "dXVUVVWRlJREYmIiu3fvtnVZ0nXIQHQDBwcHHn74Yfr378/BgwcBOHDgANHR0Wi1Wvz9/Xnttdcw\n",
              "Go0AzJw5kzlz5lhN48iRIyiVSkpLSwE4efIk999/P56engwaNIi5c+dSX19vfn5AQACvv/46sbGx\n",
              "qFQqAgMDSU9PN7cvW7aMyMhIq3nodDqeeOIJ8/9VVVUkJibi7++PVqslNjaWgoKCzl04PYwMRDcw\n",
              "Go189tlnVFRUMHz4cHJzc4mJieGZZ56htLSUzMxMvv76a1auXAlAfHw8GzdupK6uzjyN5ORkcwAM\n",
              "BgMTJkwgJiaGoqIijh49Sl5eHvPmzbOa7/r163nzzTeprq7m2WefJS4ujpqamjbVLITgwQcfpKam\n",
              "hpycHM6fP09oaCj3338/zc3NnbZsehwhdYmoqCjh4uIiNBqNcHR0FI6OjmLlypVCCCGee+458eij\n",
              "j1o9PzU1VQQGBgohhGhpaRGBgYEiOTlZCCFEfX290Gg0YvPmzUIIIVavXi3Cw8OtXp+VlSWUSqUw\n",
              "Go1CCCH8/f3F8uXLze11dXUCEPv37xdCCJGUlCQiIiKsphEXFycef/xxIYQQhw8fFs7OzqK2ttbc\n",
              "bjQahaurq9izZ0/HFk4PJvcQXeill16iqqqKixcvotPp2LZtG0ajEb1eT3p6Ou7u7uZbYmIiJSUl\n",
              "ACgUCmbPns2GDRsASEtLQ6VSMWXKFAD0ej2HDx+2en1sbCwKhcI8DQAfHx/z33379gWgtra2TbXr\n",
              "9XqMRiODBw82z0Or1QJQXFzc8YXTQznZuoBbgUqlYt26dQwfPpx169bh5eXFzJkz+eSTT675Gp1O\n",
              "R1JSEidOnGD9+vU8+eSTODi0br+8vLyIjIxk586dHarJ8pgD4Pz58wwcONA8D6VSSXl5Oc7Ozjc9\n",
              "H3sj9xDdxMXFhaVLl/LGG2+g0+n44osvSEtLo6mpCZPJRH5+Plu2bDE/38fHh/vuu4/Fixezd+9e\n",
              "Zs+ebW578sknycnJ4YMPPuDSpUsIISguLuarr75qcz1jxozh2LFjZGVlYTKZSEtLIzMz09weGRnJ\n",
              "yJEjSUxMpKysDICLFy+yadMmLl261PEF0kPJQHSjWbNmodVq2bp1KxkZGSQnJzNo0CC0Wi0PPfQQ\n",
              "Z86csXp+fHw8mzdvJiYmhoCAAPPjfn5+7Nu3j4yMDAIDA3F3d2fy5MkcO3aszbVERUXxyiuvMH36\n",
              "dDw8PPjuu++YMWOGud3R0ZGMjAzc3NwYN24cKpWKsLAw0tPTUSgUHV4WPZVCCDmmWpJ+JvcQkmRB\n",
              "BkKSLMhASJIFGQhJsiADIUkWZCAkyYIMhCRZsItArF271tYlSLcIu+jL9MszuLeSS01GSqobWm81\n",
              "rbfSn/++ct9obGHGqMHMjQ5E28/F1iXbNbsIRG/U0iKovNRktbKXWqzkP9/XNhjbNL0NWaf5PLuI\n",
              "OROG8NSE21G53jod8jqTDEQXaDSaKKtppKSmgQvVFlv0K1v3C9UNlNU20GxqW6+ZvkpHPDWueKld\n",
              "8bK491S74q1xxVDXyJqMPI6fq+G9HXr+d18hc6ODmHWXP67Ojl38bnuXdgeisbGRBQsWsHXrVlxd\n",
              "XQkLCyM1NRW9Xk9cXBwGgwGNRsOnn37KiBEjAK7bZq8ajSYOF17k8JmLnK+23rpX1je1aRoKBWj7\n",
              "uuClccFL3efKfeuK7qVpXdk91a5t2trfPXQg/z5ewqptuRSU1/Onb39iQ9Zpno8J5g9jBuPsaBeH\n",
              "izbX7kAsWbIEhUJBXl6e1YCUp59+moSEBHPXZp1OZx4/fL02eyGEoMBQT2ZeOZl55ewvqORys+ma\n",
              "z1c6ObRuyX/eql9ZuVv/d8FL04eBKpdOW1EVCgWxod789g5Pvsw5x9rtes5VXeaV9GN8nHmK+ZNC\n",
              "+P2vfHBw6L09VTtDu3q71tfX4+3tzdmzZ1Gr1ebHy8rKCAoKorKyEicnJ4QQeHt7k5WVhVqtvmZb\n",
              "UFBQm+b74osvsmbNmva/uw6qvtzM3nwDmfpyMvMMnKu6bNXuoXIhIlCLv7av1UcZL7Ur7m7ONu0m\n",
              "3Wg08ff9RazblU/FlT3WMC8VCycP5Z5hA3t1F+6OaNce4tSpU/Tv35+33nqL7du306dPH5YtW4a7\n",
              "uzve3t44ObVOTqFQ4OfnR1FRERqN5pptVwtEY2MjjY2NVo+ZTNfeEncmU4vg6Nkq9uS1huCH4ipM\n",
              "Lf+/vVA6OjD29tuYGOzBxBAPhnmpeuyK5eLkyOzI23lkrC+fZJ3m48wCTpbUMuevhxjjfxsLJw9l\n",
              "3BCtrcvscdoVCKPRyJkzZ7jjjjt4++23ycnJYdKkSWzevLnTClqxYgXLly+3eiw8PLzTpv9LF6ov\n",
              "X/kYZCAr30D1ZesrSgR69GViiAcTgz0YN6Q/bkr7+h6ir4sTz8UEM+sufz7cfYpPvy/k0JmLPPLx\n",
              "fiaGeLBo8lBGDtLYusweo10fmQwGA56enjQ1NeHo2PrtxdixY1m4cCHx8fGd8pHpanuI1157rdNO\n",
              "zl1uMnHgdAWZeQb26MvRl9VZtatcnYgMGsDEEA8mBA9g8G1unTLfnqK0poH3d+r5PLsY45W9X2yo\n",
              "Fy9OGkrQwH42rs722rW5GzBgADExMWzdupXY2FhOnz7N6dOniYiIYNSoUaSmpqLT6di0aRODBw82\n",
              "r/DXa/slFxcXXFysTy79HL6bIYQgt7SWzLxy9ugNHDhdSZOxxdzuoIAwX3fzx6CwwRqcevE3Mp5q\n",
              "V96cFspTE4bwl+16vvrhHN8eK2HL8RIeGj2YF+4NYZB7H1uXaTPtHkJaUFDAnDlzMBgMODg4sHTp\n",
              "UmbMmEFubi46nY6KigrUajUpKSmEhoYCXLetLdp7UF1Z30RWvuFKCMoprbHe4/hoXK/sATyICNLi\n",
              "7qZs87R7m5MlNazelkfGj61XBFQ6OvB4uB/P3h3EgFvwrLddjKm+USCaTS3kFFW1Hgvoyzl2rhrL\n",
              "d+Xq7MC427VMDPEgKmQAgR79euzBsK0cKbrIu1ty2VdQAYCb0pE5kbfz1MQhqG+hs952G4jiykt8\n",
              "d+WcwL5TFdQ1WndxGOalMh8Mjwm4TZ6xbQMhBN/nV/DO1pP852w1AO5uziRGBfLHuwLoo+z9y9C+\n",
              "vjKxsPxfP7L9p1Lz//37Kq0Ohj3Vrjaszj4pFAoigwcQERTB1hMlrNqWR35ZHSv+fdJ81vuRsb69\n",
              "+qy33QYiZvhAai43MzGkNQQjfTTyLGwnUSgUTBnpzaQ7vEjPOcefM/I4V3WZV786zseZBbw4KYQH\n",
              "wnrnWW+7/cgkdZ9Go4nPs4t5f2c+hrrWLyiGealY8Nuh3Du8d5317r37PqnTuDg5Ejc+gMxF0Syc\n",
              "PBS1qxMnS2p56m+HmPHhXvadqrB1iZ1GBkJqMzelE8/eHcSeRfcwNzqQPs6OHCmq4rHk/czacICj\n",
              "xVW2LrHDZCCkdtO4ObNoyjB2L4om7i5/nB0V7NEbmLruexL+dojckrZdcr8nkoGQbtpAlSvLp45k\n",
              "54JoZowajIMCtv1YypS1mbzweQ6FhvobT6SHkYGQOsy3vxurHw5j2/yJ/C7UGyHgnz+cJ2bNbpZs\n",
              "+g/nf9FtvieTgZA6TdBAFeseH8U3z0Vyz7CBmFoEnx8sJvrd71j29QnKaxtvPBEbk4GQOt3IQRo+\n",
              "0Y1lU+JdhA/pT5OphU/3FjLxnV2s3HKSqkttG2JrCzcdiJSUFBQKhflXa8rKypgyZQrBwcGMHDnS\n",
              "6tdortcm9V6j/fvzj6fC+Xv8OH7t687lZhMffneKCe/s4r0d+v/qbtMT3FQgCgsLSU5Othq4s2TJ\n",
              "EsLDw9Hr9aSkpDBz5kzzz7der03q3RQKBRFBA0ifO571fxzDMC8VtQ1G1mTkMfGdXSRnFtBwnbHp\n",
              "3a3dgWhpaSE+Pp7333/fatzCxo0beeaZZ4DWQUM+Pj7s3r37hm3SrUGhUHDvHZ58+/wE3nvsNwwZ\n",
              "0JfK+ib+9O1PRL27i9T9Z6zGqdhKu/syrVmzhoiICEaPHm1+rKKigubmZry8vMyPBQQEUFRUdN22\n",
              "q7HlmGqp6zk4KHggzIfYkV58eeQca3fozf2kPso8xbyYEKb9ZhCONuon1a49xPHjx9m0aROvvvpq\n",
              "V9XDihUr0Gg0Vrfs7Owum59kG06ODjw81pedL0Wx/IEReKhcKK68zIK0o0z+SybfHrtAS0v3d7Nr\n",
              "VyD27NlDYWEhwcHBBAQEsH//fhISEti4cSNOTk5WPxpeWFiIn58fWq32mm1X8/LLL1NdXW11u/PO\n",
              "O2/y7Uk9nbmf1MK7WXLfMNzdnMkvq2Pu34/w+//JYtfJMrq1/6nogKioKJGeni6EECIuLk4kJSUJ\n",
              "IYTIzs4WPj4+oqmp6YZtbTF//vyOlCnZkerLTWLNtlwxYukW4b/4G+G/+Bsx/YPvxd58Q7fMv9PG\n",
              "Q6xcuZJZs2YRHByMUqkkNTUVZ2fnG7ZJkiW1qzPzJ4UQNz6Aj3af4tO9hRw+c5HHkvcTGTSAlyYP\n",
              "5de+7l02fzkeQurRSmsaWLcrn39kF5kvDn3vcE8W/DaE4d7qG7y6/eSZaqlH81S78vqVDoQPjW7t\n",
              "QLj9p1Ji39vDc//IoaC87sYTaQcZCMku+PZ3Y9Ufwtg2P4rf/aq1A+G/jp5n0p8zWfTFUc5evNQp\n",
              "85GBkOxK0MB+rJs5is3PRxJzpQPhxkNnuWfVbpL+eZyy2oYOTV8GQrJLI3w0bNCN5cu54xkfqKXJ\n",
              "1MJf953hL9v1HZqu3V51Q5IARvndxmdPhbM338DaHXqevbttP7FwLXbxLdP06dMJCAiwesxkMpGd\n",
              "nc2dd97ZoWu/2ju5HFrdaDn4+/vzwgsv3HA6dhGIq6mpqUGj0VBdXW314y23GrkcWnXWcpDHEJJk\n",
              "QQZCkizIQEiSBbsNhIuLC0lJSf/14yq3GrkcWnXWcrDbg2pJ6gp2u4eQpK4gAyFJFmQgJMmC3QZC\n",
              "r9czfvx4QkJCGDt2LCdOnLB1Sd2uoaGBadOmERISQlhYGJMmTSI/P9/WZdnML68VdjPsNhBPP/00\n",
              "CQkJ5OXlsXjxYnQ6na1LsomEhARyc3M5evQoU6dOJT4+3tYl2cTVrhV2U7ploGonKy0tFSqVSjQ3\n",
              "NwshhGhpaRGenp5Cr9fbuDLbOnjwoPD397d1Gd3OZDKJmJgYcejQIatx/jfDLvcQxcXFeHt74+TU\n",
              "2llXoVDg5+d3zWs93SrWrl3L1KlTbV1Gt7vatcJuluz+3Uu89dZb5Ofns2PHDluX0q1+vlZYZ10v\n",
              "2C4D4evry4ULFzAajTg5OSGEoKio6JrXeurtVq1axZdffsn27dtxc3OzdTndyvJaYQAlJSUkJCRw\n",
              "4cIFEhMT2z/BTvsg182ioqJESkqKEEKItLQ0MXr0aNsWZCOrV68Wo0aNEpWVlbYupUfo6DGE3Xbd\n",
              "yM3NRafTUVFRgVqtJiUlhdDQUFuX1a3Onj2Lr68vQ4YMQaVSAa19eg4cOGDjymwnOjqaefPmMW3a\n",
              "tJt6vd0GQpK6gl1+yyRJXUUGQpIsyEBIkgUZCEmyIAMhSRZkICTJggyEJFmQgZAkCzIQkmRBBkKS\n",
              "LMhASJKF/wOTPxjWvlBu9AAAAABJRU5ErkJggg==\n",
              "\">\n",
              "        \n",
              "      </div>\n",
              "      <script></script>\n",
              "      <script type=\"text/javascript\">\n",
              "        (() => {\n",
              "          const chartElement = document.getElementById(\"chart-2dfb4656-1fdb-4db6-b2c3-05450f0a071d\");\n",
              "          async function getCodeForChartHandler(event) {\n",
              "            const chartCodeResponse =  await google.colab.kernel.invokeFunction(\n",
              "                'getCodeForChart', [\"chart-2dfb4656-1fdb-4db6-b2c3-05450f0a071d\"], {});\n",
              "            const responseJson = chartCodeResponse.data['application/json'];\n",
              "            await google.colab.notebook.addCell(responseJson.code, 'code');\n",
              "          }\n",
              "          chartElement.onclick = getCodeForChartHandler;\n",
              "        })();\n",
              "      </script>\n",
              "      <style>\n",
              "        .colab-quickchart-chart-with-code  {\n",
              "            display: block;\n",
              "            float: left;\n",
              "            border: 1px solid transparent;\n",
              "        }\n",
              "\n",
              "        .colab-quickchart-chart-with-code:hover {\n",
              "            cursor: pointer;\n",
              "            border: 1px solid #aaa;\n",
              "        }\n",
              "      </style>"
            ]
          },
          "metadata": {}
        },
        {
          "output_type": "display_data",
          "data": {
            "text/plain": [
              "<google.colab._quickchart_helpers.SectionTitle at 0x7a9381b1d5a0>"
            ],
            "text/html": [
              "<h4 class=\"colab-quickchart-section-title\">Distributions</h4>\n",
              "<style>\n",
              "  .colab-quickchart-section-title {\n",
              "      clear: both;\n",
              "  }\n",
              "</style>"
            ]
          },
          "metadata": {}
        },
        {
          "output_type": "display_data",
          "data": {
            "text/plain": [
              "import numpy as np\n",
              "from google.colab import autoviz\n",
              "\n",
              "def histogram(df, colname, num_bins=20, figscale=1):\n",
              "  from matplotlib import pyplot as plt\n",
              "  df[colname].plot(kind='hist', bins=num_bins, title=colname, figsize=(8*figscale, 4*figscale))\n",
              "  plt.gca().spines[['top', 'right',]].set_visible(False)\n",
              "  plt.tight_layout()\n",
              "  return autoviz.MplChart.from_current_mpl_state()\n",
              "\n",
              "chart = histogram(_df_2, *['Temperature'], **{})\n",
              "chart"
            ],
            "text/html": [
              "      <div class=\"colab-quickchart-chart-with-code\" id=\"chart-2179b598-40bf-44bd-9543-647b0d396116\">\n",
              "        <img src=\"data:image/png;base64,iVBORw0KGgoAAAANSUhEUgAAALkAAABgCAYAAABBnNO7AAAAOXRFWHRTb2Z0d2FyZQBNYXRwbG90\n",
              "bGliIHZlcnNpb24zLjcuMSwgaHR0cHM6Ly9tYXRwbG90bGliLm9yZy/bCgiHAAAACXBIWXMAAA9h\n",
              "AAAPYQGoP6dpAAAOsElEQVR4nO3de0xT9/sH8HcpFy+Ui+WqIBVRdNqBIkqUUYxZZvwuw0E2N6dS\n",
              "LwGJ8zLJvGdVt+gvWzQwF8Y0i2wadW7qbmxublPB6JQhTqMRcU5EEVDEqmgpbZ/vH3w9P45c5NDS\n",
              "dt3zSkg4l56+T3l6+LTn8zlHRkQExlyYm6MDMNbTuMiZy+MiZy6Pi5y5PC5y5vK4yJnL4yJnLo+L\n",
              "nLk8LnLm8rjImcv71xe5t7e38OPp6Qm5XC6aV1xc7OiINpOcnIw1a9Y4OobduTs6gKM9ePBA+H3N\n",
              "mjU4duwYjhw54rhA3WA0GuHp6Wm352tuboaHh4fdns9a//ojeWcMBgNWrVqFwYMHw9/fH0lJSSgr\n",
              "KxOWr127FomJiXjnnXcQGhoKHx8fLFu2DA0NDZg2bRp8fX2hUqnwzTffCI8pKChAWFgYcnNzERYW\n",
              "BqVSiTlz5ojebHfv3kVWVhYiIiKgVCoxZcoUXLlyRViu1Wrx6quvIisrC4GBgUhJSQEAZGRkQKVS\n",
              "wdvbG4MGDYJOp4PFYgEAzJ8/H8XFxXj//feF/1Kt96E1rVaLGTNmCNMqlQo6nQ6TJ0+GQqHApk2b\n",
              "AACff/45YmJi4OvrixEjRmDPnj22eulti5hg9erVpNFohOn09HSaNGkSVVVVUXNzM23ZsoUCAwOp\n",
              "oaGBiIh0Oh25u7tTTk4OGY1GOnXqFLm7u1NcXBwVFRWR2WymTZs2kb+/PzU2NhIR0fbt20kul5NW\n",
              "q6UHDx7Q9evXacyYMTRv3jwiIrJYLJScnEzTp0+n+vp6MhgMtGzZMho+fDgZjUYhl7u7O3366adk\n",
              "NBqFbW/bto1qamrIYrHQiRMnqF+/fpSfny/sj0ajodWrV4v2WafT0YQJE0Tz0tPT6Y033hCmIyIi\n",
              "KDg4mI4fP04Wi4UaGxtp+/btFB4eTiUlJWQ2m6m4uJgUCgUVFxfb5o9hQ1zkrbQu8tu3bxMAunjx\n",
              "omidqKgo2rFjBxG1FEhkZKRoeWxsLGVkZAjTj7dz5swZImopcjc3N7p7966wzg8//EAeHh5kMpmo\n",
              "tLSUPDw86P79+8Jyk8lEvXr1EgooPT2dEhISnro/ixYtotTUVGHamiJfsWKFaB21Wi16AxERzZs3\n",
              "j+bOnfvUXPb2r2+Td+Ty5csAgHHjxonmG41GXL9+XZgODQ0VLe/bt69oXt++fQEA9+/fF+b5+/vD\n",
              "19dXmB40aBCam5tRW1uLiooKmEwmhIWFtclUVVUlekxrRIQNGzZg165dqK6uBhHBYDAgPj6+y/vc\n",
              "mSefr6KiAtnZ2Vi+fLkwz2QyISkpySbPZ0tc5B0ICQkBAJw9exYDBw606bYbGhqg1+uFQr969So8\n",
              "PDwQHByMkJAQeHp64tatW51+uHNzE3+c2rNnD3JycnDw4EHExsZCLpdj8eLFKC0t7fAxAKBQKNDY\n",
              "2CiaV11djaCgoE6fLyQkBOvWrcOsWbO6ttMOxB88OxAREYGpU6diwYIFqKysBNByNP7xxx9x8+ZN\n",
              "q7Ytk8mQnZ2NxsZGVFdXQ6fTYebMmZDL5UhMTMTIkSORlZWFuro6AC1vin379uHhw4cdblOv18Pd\n",
              "3R1BQUGQyWQ4fPgwdu7cKVonJCQEly5dEs0bM2YMzp07h2PHjsFsNuPLL79EUVHRU/dhyZIlePfd\n",
              "d1FSUgKLxYKmpiaUlJSI3lTOgou8E7t27UJcXByef/55KBQKREdHY9u2bSArRwyGhIRArVZj6NCh\n",
              "GDlyJIYPH46cnBwAgFwux6FDh9CnTx+MGzcOCoUCMTExOHDgAGQyWYfb1Gq1mDRpEtRqNQICApCf\n",
              "ny/6hgQAsrOzUV5eDn9/f/j5+QEANBoNVq1ahdTUVAQGBuLIkSNIS0t76j4sXrwYa9euxfz589Gv\n",
              "Xz8MGDAAb7/9dpv/Cs5ARtb+xZgkBQUFWLNmjahdz3qW5CP5Tz/91BM5GOsxkot8/fr1iI6ORm5u\n",
              "Lu7du9cTmRizqW41V8rKypCXl4fvvvsOqampePPNN/HMM8/0RD7GrGZVm/zMmTN46aWXUF1djYkT\n",
              "J2Lz5s1Qq9W2zMeY1br17covv/yClJQUpKamYsGCBaipqUFmZiZefvllW+djzHpST5EOGzaMEhMT\n",
              "ae/evWQymUTLJk+eLJpeuHAhRUREEAAqKyvrzhlZxqwmublSWlqKuLi4Lq1bVFSEyMhIJCYm4uuv\n",
              "v0ZsbGw33oaMWUdyc6W0tBR37twRpuvr67Ft27Z2101KSmq3D0ZX5ObmdutxjD1JcpHn5eWhX79+\n",
              "wrRSqUReXp5VIZqamnDv3j3RT+v+04xZQ3IHrfZaN2az2aoQGzduxLp160TzEhIS2l1XtaKww+1c\n",
              "/b//WJXjn6qj18Qer0dnf4+OdJSrp/ZD8pE8NDQUe/fuFaa/+OKLNt1NpVq5ciX0er3oZ+zYsVZt\n",
              "k7HHJB/Jc3JykJKSgmXLlgEA+vTpIxre1R1eXl7w8vISzZPL5VZtk7HHJBf5sGHDcOHCBZSXlwMA\n",
              "oqOjOyzIzMxMFBYWoqamBi+88AIUCoUwGIExe+nWoAmZTAY/Pz+YTCbcuHEDANodWPDJJ59Yl44x\n",
              "G5Bc5AUFBVi0aBE8PDyE0SIymUzo4M+Ys5Fc5I9Hg0RHR/dEHsZsTvK3KwEBAVzg7B9FcpFPnToV\n",
              "OTk5qKurE528YcxZSW6urF69GgCwdOlSyGQyEBFkMpnVJ4QY6ymSi/zxZccY+6foVn/y0tJS7Nix\n",
              "A0DLdfusvUQDYz2pWx205syZg7Vr1wJo6YU4ffp0W+dizGYkF/nWrVvx+++/w8fHBwAwePBg3Lp1\n",
              "y+bBGLMVyUXu5eWF3r17i+a5u/PV5pjzklzkgYGBuHTpknA1p4KCAptfK5AxW+pWL8TXX38dFy9e\n",
              "RHh4OHx8fPD999/3RDbGbEJykUdFReHkyZMoLy8HEXXaC5ExZyC5yK9duwbg/6+73VkvRMacgeQi\n",
              "j4uLE850GgwGPHz4EEqlknshMqclucif/Lpw//79+PPPP20WiDFbs/r65KmpqSgslD6YlTF7kXwk\n",
              "b93j0Gw24+TJk9wLkTk1yUXu5+cntMnlcjmGDBmCDz/8sCeyMWYT3AuRuTy+ZxBzeZKP5G5ubu3e\n",
              "oIkHTzBnJbnI169fj0ePHiErKwsAkJ+fj969e2PJkiW2zsaYTUgu8gMHDoju1fjee+8hLi5OGBbH\n",
              "mLOR3Ca/f/++6OxmXV2d6JbajDkbyUfy7OxsxMTEYMqUKQCAgwcPCqOEGHNGkos8MzMTEyZMwOHD\n",
              "hwG0jNofMWKEzYMxZivd+gpRqVRCrVZj4cKFiI6OhtFobHe9iooKjB8/HkOHDkV8fDzOnz9vVVjG\n",
              "ukNykX/11VdISEjA7NmzAQDnz5/H1KlT2103MzMTGRkZuHTpEpYvXw6tVmtNVsa6RXKRb9y4EadP\n",
              "n4afnx8AICYmBpWVlW3Wq6urwx9//IEZM2YAANLS0lBVVcWXbmZ2J7lNLpfLoVQqRfM8PT3brFdV\n",
              "VYXQ0FBhkLNMJsPAgQNx7do1REVFidZtampCU1OTaB6fVGK2IrnIFQoFamtrhbOev/76q+hGWd3R\n",
              "3j2Dhg0bhqVLl7ZZN7WT7Sxd+qtVOVozm804deoUxo4d61TD+9rL1dFrYsvXoyOtn7urr1lHuaTu\n",
              "R0REBBYvXvz0kFJv/FlSUkKjRo0iX19fmjBhAvXv37/dG9HW1taSQqGg5uZmIiKyWCwUHBxMFRUV\n",
              "bdY1GAyk1+tFPwaDQWo0m9Lr9QSA9Hq9Q3M8yVlzETlvNklHcovFArPZjMOHD+P48eMgIowfP15o\n",
              "n7cWFBSE0aNHY+fOndBqtdi3bx/CwsLaNFWA9u8ZxJitSL4jc0xMTJeHu5WXl0Or1aK+vh4+Pj7Y\n",
              "vn071Gp1t4La27179+Dr6wu9Xi9cLcwZOGsuwHmzSW6TDxkyBJcvX273iPyk6OhonDhxolvBGLMV\n",
              "yUV+584dxMbGYvz48fD29hbm79+/36bBHM3Lyws6nc7pmlHOmgtw3mxdbq5kZGRg69at+Oyzz9DQ\n",
              "0AB/f3/R8vT09B4JyJi1ulzko0ePxunTp9v8zpiz61bfFYmfVRlzqC63yR89eoRz584JV856/Ptj\n",
              "zz77bI8EZMxaXW6uqFSqdsd2Ai2n7K9cuWLTYPa0aNEifPvtt6isrERZWRliY2MBtOxz6+uxr1y5\n",
              "EtOmTbNbLoPBgNdeew0XLlxA7969ERQUhI8//hhRUVGoq6vDrFmz8Ndff8HLywt5eXlISkpyeK7k\n",
              "5GRUVlbC19cXQMtntbfeessuuTrkmHNQzuXo0aNUVVVFERERorO3T07b26NHj6iwsJAsFgsREW3Z\n",
              "soU0Gg0REc2ePZt0Oh0REZ06dYoGDBhARqPR4bk0Gg0dOHDALjm6ii9JASApKQlhYWGOjtFGr169\n",
              "MGXKFOE/aEJCAq5evQoA2Lt3L+bPnw8AiI+PR//+/XH06FGH53JGXORPMWvWLKjVasydO9fh90bK\n",
              "zc1FSkoK6uvr0dzcjJCQEGGZSqUSLqvtqFyPrVixAmq1GtOmTXOKZiwXeSeKiopw9uxZnD59GgEB\n",
              "AQ49F7BhwwZcvnwZGzdudFiG9jyZa8eOHbh48SLOnj2L5557Di+++KKDE4Lb5K111gavrq4mb29v\n",
              "+wb6nw8++IDi4uKooaFBmNenTx+6efOmMB0fH0+HDh1yeK4neXl50e3bt+0Xqh18JO9AY2Mj7t69\n",
              "K0zv3r0bo0aNsnuOzZs3Y/fu3Th06JCot+crr7yC/Px8AEBJSQlu3LgBjUbj0Fwmkwm1tbXCOvv2\n",
              "7UNwcHCbQTb2JrkXoivKzMxEYWEhampqoFQqoVAo8PPPPyMtLQ1msxlEhMjISOTm5kKlUtkt1/Xr\n",
              "1xEeHo7IyEgoFAoALf1DTp48idraWsycORN///03PD098dFHH2HixIkOzfXbb79Bo9GgqakJbm5u\n",
              "CAgIwObNmxETE2OXXB3hImcuj5srzOVxkTOXx0XOXB4XOXN5XOTM5XGRM5fHRc5cHhc5c3lc5Mzl\n",
              "cZEzl8dFzlzefwHSu38PP+tjgAAAAABJRU5ErkJggg==\n",
              "\">\n",
              "        \n",
              "      </div>\n",
              "      <script></script>\n",
              "      <script type=\"text/javascript\">\n",
              "        (() => {\n",
              "          const chartElement = document.getElementById(\"chart-2179b598-40bf-44bd-9543-647b0d396116\");\n",
              "          async function getCodeForChartHandler(event) {\n",
              "            const chartCodeResponse =  await google.colab.kernel.invokeFunction(\n",
              "                'getCodeForChart', [\"chart-2179b598-40bf-44bd-9543-647b0d396116\"], {});\n",
              "            const responseJson = chartCodeResponse.data['application/json'];\n",
              "            await google.colab.notebook.addCell(responseJson.code, 'code');\n",
              "          }\n",
              "          chartElement.onclick = getCodeForChartHandler;\n",
              "        })();\n",
              "      </script>\n",
              "      <style>\n",
              "        .colab-quickchart-chart-with-code  {\n",
              "            display: block;\n",
              "            float: left;\n",
              "            border: 1px solid transparent;\n",
              "        }\n",
              "\n",
              "        .colab-quickchart-chart-with-code:hover {\n",
              "            cursor: pointer;\n",
              "            border: 1px solid #aaa;\n",
              "        }\n",
              "      </style>"
            ]
          },
          "metadata": {}
        },
        {
          "output_type": "display_data",
          "data": {
            "text/plain": [
              "import numpy as np\n",
              "from google.colab import autoviz\n",
              "\n",
              "def histogram(df, colname, num_bins=20, figscale=1):\n",
              "  from matplotlib import pyplot as plt\n",
              "  df[colname].plot(kind='hist', bins=num_bins, title=colname, figsize=(8*figscale, 4*figscale))\n",
              "  plt.gca().spines[['top', 'right',]].set_visible(False)\n",
              "  plt.tight_layout()\n",
              "  return autoviz.MplChart.from_current_mpl_state()\n",
              "\n",
              "chart = histogram(_df_3, *['Revenue'], **{})\n",
              "chart"
            ],
            "text/html": [
              "      <div class=\"colab-quickchart-chart-with-code\" id=\"chart-f0631a31-6c60-4aa5-9138-c8f11805570f\">\n",
              "        <img src=\"data:image/png;base64,iVBORw0KGgoAAAANSUhEUgAAALkAAABgCAYAAABBnNO7AAAAOXRFWHRTb2Z0d2FyZQBNYXRwbG90\n",
              "bGliIHZlcnNpb24zLjcuMSwgaHR0cHM6Ly9tYXRwbG90bGliLm9yZy/bCgiHAAAACXBIWXMAAA9h\n",
              "AAAPYQGoP6dpAAAOMUlEQVR4nO3de0xT5xsH8G/poIJUOivKxVk2QFQudRYYSh0YYnT8jBdcdkEn\n",
              "xRkZOjbjFvntiqKZ8w+Nmkg2ceo2s6iodctYdDidzHkHp4JR8DJhIpcpoogibZ/fH8bzo1oZpz3Y\n",
              "rnk+SZOe8749fXrO09O3533POTIiIjDmxjycHQBjPY2TnLk9TnLm9jjJmdvjJGduj5OcuT1Ocub2\n",
              "OMmZ2+MkZ26Pk5y5PU5yByQnJ8PLywu+vr7o06cPIiMj8eWXXzo7LPYQTnIHLViwAK2trbhx4wby\n",
              "8vKQnZ2N/fv3Ozss1gknuUQ8PDzwyiuvoG/fvjh27BgA4MiRI0hOToZarYZGo8Enn3wCk8kEAEhP\n",
              "T8ebb75ptYzy8nJ4eXmhoaEBAHD27FlMmDABAwYMQHBwMObMmYPbt28L9UNCQpCfn4/U1FQolUqE\n",
              "hobCaDQK5QsXLoRer7d6D4PBgOnTpwvTN27cQHZ2NjQaDdRqNVJTU3Hx4kVpV46TcZJLxGQy4bvv\n",
              "vsO1a9cwdOhQnDt3DikpKXjrrbfQ0NCA0tJS/PDDD1i2bBkAYNasWdi6dStaW1uFZRQWFgpJ/fff\n",
              "f2P06NFISUlBTU0NTp48iaqqKsybN8/qfdetW4clS5agpaUFc+fORUZGBm7evNmtmIkIU6ZMwc2b\n",
              "N3HixAnU1dUhOjoaEyZMQEdHh2TrxumI2S0pKYkUCgX5+fmRXC4nuVxOy5YtIyKinJwceu2116zq\n",
              "b9q0iUJDQ4mIyGKxUGhoKBUWFhIR0e3bt8nPz4+Ki4uJiGj58uWUkJBg9foDBw6Ql5cXmUwmIiLS\n",
              "aDS0aNEioby1tZUA0OHDh4mIKC8vjxITE62WkZGRQdOmTSMiorKyMvL09KRbt24J5SaTiXr16kW/\n",
              "/fabYyvHhfCe3EHvv/8+bty4gebmZhgMBvz8888wmUyorq6G0WiESqUSHtnZ2aivrwcAyGQyzJw5\n",
              "E1999RUAoKioCEqlEuPHjwcAVFdXo6yszOr1qampkMlkwjIAICgoSHjeu3dvAMCtW7e6FXt1dTVM\n",
              "JhMGDhwovIdarQYA1NbWOr5yXMRTzg7AXSiVSqxZswZDhw7FmjVrEBAQgPT0dKxfv/6xrzEYDMjL\n",
              "y0NlZSXWrVuHzMxMeHjc3+8EBARAr9dj7969DsXUuQ0PAHV1dejfv7/wHl5eXmhqaoKnp6fd7+Pq\n",
              "eE8uIYVCgU8//RSLFy+GwWDAtm3bUFRUhHv37sFsNuP8+fPYtWuXUD8oKAgvvfQScnNzcfDgQcyc\n",
              "OVMoy8zMxIkTJ1BQUIC2tjYQEWpra7Fz585uxxMbG4vTp0/jwIEDMJvNKCoqQmlpqVCu1+sRFRWF\n",
              "7OxsNDY2AgCam5uxfft2tLW1Ob5CXAQnucTeeOMNqNVq7N69GyUlJSgsLERwcDDUajVefvllXL58\n",
              "2ar+rFmzUFxcjJSUFISEhAjzBw0ahEOHDqGkpAShoaFQqVQYN24cTp8+3e1YkpKS8OGHHyItLQ3+\n",
              "/v749ddfMXXqVKFcLpejpKQEPj4+eOGFF6BUKqHVamE0GiGTyRxeF65CRsTneDL3JnpPvnv37p6I\n",
              "g7EeIzrJ8/PzERERgVWrVnX7eCxjziQ6yX///Xds3rwZFRUVGDx4MObMmYMzZ870RGyMScKhNvkf\n",
              "f/yBiRMnoq6uDmPGjMGKFSsQHR0tZXyMOcyuoyt79uzBpEmTkJaWhrlz56K+vh5ZWVmYMmWK1PEx\n",
              "5jixXaRDhgwhvV5PW7duFbqXHxg/frzVdE5ODmk0GgJAJ06csLdXljGHiG6ulJWVQafTdatuaWkp\n",
              "nnvuOej1euzcuRPDhw+342vImGNEN1fKyspw/fp1YfratWsoLCy0WffFF1/EwIED7Qps1apVdr2O\n",
              "sYeJTvKCggL07dtXmFar1SgoKHAoiPb2dty8edPq4W5jmpnziB6gZat1YzabHQpi6dKlWLRokdW8\n",
              "hIQEm3VD/lv82OX8+fl/HIrDVTzuM4r9fFItxx72bKeeilf0njwwMBBbt24Vprds2YLAwECHgvjg\n",
              "gw/Q0tJi9YiPj3domYw9IHpPvnLlSkyaNAkLFiwAAPj4+OD77793KAiFQgGFQmE1Ty6XO7RMxh4Q\n",
              "neRDhgzBmTNncO7cOQBARETEYxMyKysLxcXFqK+vx7hx46BUKnH+/HnHImZMJLtOmpDJZFCpVDCZ\n",
              "TLhy5QqA+0NDH8aXZ2CuQHSSb9y4Ee+88w48PT2Fs1hkMpkw6J4xVyM6yRcvXoxjx44hIiKiJ+Jh\n",
              "THKij67069ePE5z9q4hO8smTJ2PlypVobGy06rxhzFWJbq589NFHAID58+dDJpOBiCCTyRzuEGKs\n",
              "p4hOcovF0hNxMNZj7BpPXlZWhm+//RbA/WvpXb16VdKgGJOSXQO0Zs6ciYULFwK4PwoxPT1d6rgY\n",
              "k4zoJF+7di0OHz6MPn36AABCQ0PR1NQkeWCMSUV0kisUCnh7e1vNe+opvtocc12ik9zf3x9VVVXC\n",
              "FZY2btxos0ufMVdh1yjE119/HWfPnsUzzzyDPn364Mcff+yJ2BiThOgkDwsLw5EjR3Du3DkQUZej\n",
              "EBlzBaKTvKamBsD/r4Xd1ShExlyB6CTX6XRCT+fdu3fR1tYGtVrNoxCZyxKd5A8fLtyxYwdOnjwp\n",
              "WUCMSc3h65OnpaWhuPjxJ60y5myi9+SdRxyazWYcOXKERyEylyY6yVUqldAml8vlCA8Px+rVq3si\n",
              "NsYkwaMQmdvjewYxtyd6T+7h4WHzpkl88gRzVaKTPD8/H3fu3EF2djYA4IsvvoC3t/cjt8NmzFWI\n",
              "TnKj0YiysjJhesmSJdDpdMJpcYy5GtFt8lu3bln1bjY2Nnb7NteMOYPoPfl7770HrVaL1NRUAMCu\n",
              "XbuEs4QYc0WikzwrKwuJiYnYt28fgPtn7UdGRkoeGGNSsesQolqtRnR0NHJychAREYF79+7ZrFdd\n",
              "XY1Ro0Zh8ODBiIuLQ2VlpUPBMmYP0Um+bds2JCQkIDMzEwBQWVmJyZMn26yblZWF2bNno6qqCrm5\n",
              "uTAYDI7EyphdRCf50qVLUV5eDpVKBQDQarW4fPnyI/UaGxtx/PhxTJ8+HQAwdepU1NbW8qWb2RMn\n",
              "uk0ul8uhVqut5nl5eT1Sr7a2FoGBgcJJzjKZDIMGDUJNTQ3CwsKs6ra3t6O9vd1qHncqMamITnKl\n",
              "UomGhgah1/OXX36xulGWPWzdM+jBF+nhU+vSuljO/Pm/OBTH45jNZhw9ehTx8fFP5FS/x33Gzp+v\n",
              "OzF1ZzlSeTgee7aT2Hg1Gg3efffdfw5O7I0/jx07Rs8//zz5+flRYmIiBQUF2bwRbUNDAymVSuro\n",
              "6CAiIovFQgMGDKDq6upH6t69e5daWlqER21tLQGglpYWseH1iJaWFpeKh8j1YnK1eDoTtSe3WCww\n",
              "m83Yt28fDh48CCLCqFGjhPZ5Z/3798eIESOwadMmGAwGbN++HQMHDnykqQLYvmcQY5IR+62IiYnp\n",
              "dt2zZ89SQkIChYeHk06no1OnTnXrda62V3C1eIhcLyZXi6cz0W3y8PBwnD9/3uYe+WERERE4dOiQ\n",
              "6C8eY1ISneTXr1/H8OHDMWrUKPj6+grzd+zYIVlQCoUCeXl5LtOEcbV4ANeLydXi6UxGZOMWyzbM\n",
              "nj0ba9euxddff43m5mY8/fTTVuUZGRk9EiBjjup2ko8YMQLl5eWPPGfM1dk1dqWb3wvGXEK32+R3\n",
              "7tzB6dOnhStnPXj+QExMTI8EyJjDunsYRqPRUEhIiM3Hs88+K+qQztixYyk6Opq0Wi3p9XoqLy8n\n",
              "IqKqqioaOXIkhYeHU2xsLFVUVAiv6apMKuvXrycAZDQaieh+h9a4ceMoLCyMIiMjaf/+/ULdrsqk\n",
              "oNFoaPDgwaTVakmr1dLmzZuJyHnr6O7duzR37lwKCwujqKgomjZtmlPjEUP0cXIpNDc3C8937Ngh\n",
              "HHsfM2YMbdiwgYiIioqKKDY2VqjXVZkULl26RCNHjqSEhAQhyTMzMykvL4+IiI4ePUrBwcF07969\n",
              "fyyTgkajsdmT7Kx1NG/ePHr77bfJYrEQEdHVq1edGo8YTknyzjZs2EBarbbLYQBihgjYw2w2U0pK\n",
              "Ch0/fpySkpKEJO/du7ewMYmI4uLiqKSk5B/LpGAryZ21jlpbW0mpVD7S0ePMbSaG0+6DMmPGDOHs\n",
              "op9++qnLUYt+fn7dHtFojxUrViAxMRE6nU6Yd+3aNXR0dCAgIECYFxISgpqami7LpDRjxgwQEeLj\n",
              "4/H55587bR1duHABffv2xWeffYY9e/bA29sbCxcuhEqlcto2E8NpFxf65ptvUFtbiyVLliA3N9dZ\n",
              "YaCiogLbt2/Hxx9/7LQYbCktLcWpU6dQXl6Ofv36ObUfwmQy4fLlyxg2bBiOHz+O1atX49VXX4XJ\n",
              "ZHJaTKI88d8OG3r16kX19fVO+ekrKCiggIAA0mg0pNFoSKFQkL+/PxUUFJCPj89jmyRdlUmtrq6O\n",
              "fH19ndY8aGpqIg8PDzKZTMK82NhY2rJly7+iufLEk7y5uZmuXLkiTBuNRgoODiaLxUJJSUlWf1R0\n",
              "Op1Qr6syKXVuk2dkZFj9uQwKChL+XHZV5qjW1larP+fLly+n0aNHC/E5Yx2NHTuWiouLiYjo4sWL\n",
              "pFar6a+//nKJbfZPnniS//nnnxQXF0dRUVEUExNDKSkpwh+srkYt2juiUazOSV5fX09jx46lsLAw\n",
              "GjZsGO3du1eo11WZoy5cuEDDhw+n6OhoioqKookTJ9KlS5eIyHnr6MKFC5ScnCxst23btjk1HjG6\n",
              "3a3P2L8VX9WWuT1Ocub2OMmZ2+MkZ26Pk5y5PU5y5vY4yZnb4yRnbo+TnLk9TnLm9jjJmdv7HyA/\n",
              "COz94OIIAAAAAElFTkSuQmCC\n",
              "\">\n",
              "        \n",
              "      </div>\n",
              "      <script></script>\n",
              "      <script type=\"text/javascript\">\n",
              "        (() => {\n",
              "          const chartElement = document.getElementById(\"chart-f0631a31-6c60-4aa5-9138-c8f11805570f\");\n",
              "          async function getCodeForChartHandler(event) {\n",
              "            const chartCodeResponse =  await google.colab.kernel.invokeFunction(\n",
              "                'getCodeForChart', [\"chart-f0631a31-6c60-4aa5-9138-c8f11805570f\"], {});\n",
              "            const responseJson = chartCodeResponse.data['application/json'];\n",
              "            await google.colab.notebook.addCell(responseJson.code, 'code');\n",
              "          }\n",
              "          chartElement.onclick = getCodeForChartHandler;\n",
              "        })();\n",
              "      </script>\n",
              "      <style>\n",
              "        .colab-quickchart-chart-with-code  {\n",
              "            display: block;\n",
              "            float: left;\n",
              "            border: 1px solid transparent;\n",
              "        }\n",
              "\n",
              "        .colab-quickchart-chart-with-code:hover {\n",
              "            cursor: pointer;\n",
              "            border: 1px solid #aaa;\n",
              "        }\n",
              "      </style>"
            ]
          },
          "metadata": {}
        },
        {
          "output_type": "display_data",
          "data": {
            "text/plain": [
              "<google.colab._quickchart_helpers.SectionTitle at 0x7a9381ec19f0>"
            ],
            "text/html": [
              "<h4 class=\"colab-quickchart-section-title\">2-d distributions</h4>\n",
              "<style>\n",
              "  .colab-quickchart-section-title {\n",
              "      clear: both;\n",
              "  }\n",
              "</style>"
            ]
          },
          "metadata": {}
        },
        {
          "output_type": "display_data",
          "data": {
            "text/plain": [
              "import numpy as np\n",
              "from google.colab import autoviz\n",
              "\n",
              "def scatter_plots(df, colname_pairs, figscale=1, alpha=.8):\n",
              "  from matplotlib import pyplot as plt\n",
              "  plt.figure(figsize=(len(colname_pairs) * 10 * figscale, 10 * figscale))\n",
              "  for plot_i, (x_colname, y_colname) in enumerate(colname_pairs, start=1):\n",
              "    ax = plt.subplot(1, len(colname_pairs), plot_i)\n",
              "    df.plot(kind='scatter', x=x_colname, y=y_colname, s=(32 * figscale), alpha=alpha, ax=ax)\n",
              "    ax.spines[['top', 'right',]].set_visible(False)\n",
              "  plt.tight_layout()\n",
              "  return autoviz.MplChart.from_current_mpl_state()\n",
              "\n",
              "chart = scatter_plots(_df_4, *[[['Temperature', 'Revenue']]], **{})\n",
              "chart"
            ],
            "text/html": [
              "      <div class=\"colab-quickchart-chart-with-code\" id=\"chart-a04da098-488c-4169-b66f-3d0065c71550\">\n",
              "        <img src=\"data:image/png;base64,iVBORw0KGgoAAAANSUhEUgAAAPYAAAD2CAYAAADlEnrIAAAAOXRFWHRTb2Z0d2FyZQBNYXRwbG90\n",
              "bGliIHZlcnNpb24zLjcuMSwgaHR0cHM6Ly9tYXRwbG90bGliLm9yZy/bCgiHAAAACXBIWXMAAA9h\n",
              "AAAPYQGoP6dpAAAZ10lEQVR4nO3de1BU5/0/8PfCynJRMC5GsAqI4BV0ASFIgmhTL2OtpUOtjTFC\n",
              "q6OxY+1onKozWnHSL8QxoyFmHG2TYtTIYDQaRzNGbBLRaRqgmoHa2ACKXOQWkFVR9gLP7w9/OXUV\n",
              "Nuyyy7oP79fMzrDnnD37eXTePHs5PB+VEEKAiKTi4eoCiMjxGGwiCTHYRBJisIkkxGATSYjBJpIQ\n",
              "g00kIQabSEIMNpGEpAt2Tk6Oq0sgcjnpgn3z5k1Xl0DkctIFm4gYbCIpMdhEEmKwiSTEYBM9JYzm\n",
              "LjToO2A0d/X5XGoH1ENEffR1TRsyT11FS7sBWj8NMhdOhm70ULvPxxmbyMWM5i5knrqK2tv34eXp\n",
              "gdrb95F56mqfZm4Gm8jFWtuNaGk3IMBnEHy91AjwGYSWdgNa2412n5PBJnKxYX5e0PppoH9gwn2j\n",
              "GfoHJmj9NBjm52X3OZ0abIPBgDVr1iAyMhLR0dFYunQpACAsLAzjx4+HTqeDTqdDfn6+8pjy8nIk\n",
              "JSVh3LhxiI+Px9WrV51ZIpHLeak9kLlwMkY94wtjZxdGPeOLzIWT4aW2P55O/fBs06ZNUKlU+Pbb\n",
              "b6FSqdDQ0KDsy8/Ph06ne+Ixq1atwsqVK5GRkYFjx44hIyMDxcXFziyTyOV0o4fi6KrpaG03Ypif\n",
              "V59CDTgx2O3t7XjvvfdQW1sLlUoFAAgKCrL6mKamJpSUlODcuXMAgLS0NKxZswYVFRWIiIhwVqlE\n",
              "TwUvtQeCArwdci6nvRSvrKzEsGHDkJWVhWnTpiE5ORl///vflf3Lli1DdHQ0li9fjubmZgBATU0N\n",
              "goODoVY//H2jUqkQEhKC6urqbp/DYDDgzp07FrfOzk5nDYnIbTgt2GazGTdv3sSkSZNQUlKCt99+\n",
              "G4sXL0ZjYyMKCwtRWlqKy5cvIzAwEOnp6XY9R3Z2NgICAixuRUVFDh4JkRsSTtLc3Cw8PDyE2WxW\n",
              "tk2bNk0UFBRYHHfr1i0xePBgIYQQjY2NYsiQIcJkMgkhhOjq6hIjRowQ5eXl3T5HR0eH0Ov1Fre1\n",
              "a9c6aURE7sNpM3ZgYCBefPFFfPrppwCAGzdu4MaNG5g4cSLa2tqU4/Ly8hATEwMAePbZZxEbG4vD\n",
              "hw8DAI4fP45Ro0b1+P5ao9HA39/f4ubp6emsIRG5Dad+Kr5v3z4sX74cGzduhIeHB/bv3w+DwYAF\n",
              "Cxags7MTQgiEh4fj4MGDymP279+PjIwMZGVlwd/fH7m5uc4skUhKKiHkasq3fv167Nq1y9VlELkU\n",
              "rzwjkhCDTSQhBptIQgw2kYQYbKI+cuTKJ47CFVSI+sDRK584CmdsIjs5Y+UTR2GwiezkjJVPHIXB\n",
              "JrKTM1Y+cRQGm8hOzlj5xFH44RlRHzh65RNHYbCJ+siRK584ytPx64WIHIrBJpIQg00kIQabSEIu\n",
              "aRhgrSkAGwYQ9Z1Tg/1ow4CysjK8+eabAP7XFODbb7/Fxo0bkZGRoTzG2j4i6h2nLY3U3t6O4OBg\n",
              "1NbWwt/fX9ne1NSEiIgItLa2Qq1WQwiB4OBgXLp0Cf7+/j3u623DAC6NROTE77EfbRhw/vx5+Pj4\n",
              "IDMzE0OHDu2xKUBAQECP+7oLtsFggMFgsNjGhgFELmgYYDabHfYcbBhA1D2nBTskJAQeHh54+eWX\n",
              "AQAxMTEYM2YMbt68ifr6eiXgQghUV1cjJCQEo0eP7nFfdzZv3gy9Xm9xS0hIcNaQiNxGvzcMeP75\n",
              "53tsCsCGAUQO4sw2I5WVlWLmzJkiKipKTJkyRRw7dkwIIcS1a9dEYmKiiIyMFHFxcaK0tFR5jLV9\n",
              "vbFu3TqHjoHIHbFhAJGEeOUZkYQYbCIJMdhEEmKwiSTEYBNJiMEmkhCDTSQhBptIQgw2kYQYbCIJ\n",
              "MdhEEmKwiSTEYBNJiMEmkhCDTSQhBptIQgw2kYScGuywsDCMHz8eOp0OOp0O+fn5VrcD7ARC5AhO\n",
              "74+dn58PnU7X6+3fdwLJyMjAsWPHkJGRgeLiYmeXSSSVp+qleFNTE0pKSpQeX2lpaaipqUFFRYWL\n",
              "KyNyL04P9rJlyxAdHY3ly5ejubnZ6vaampoeO4F0x2Aw4M6dOxY3dgIhcnKwCwsLUVpaisuXLyMw\n",
              "MBDp6elWt9uKnUCIutdvyw/X19dj3LhxuHv3bo/brTXs623vrq1btyInJ8epYyF62jltxm5vb0db\n",
              "W5tyPy8vDzExMT1uB8BOIEQO4rRPxRsbG5GWlobOzk4IIRAeHo6DBw/2uP17+/fvR0ZGBrKysuDv\n",
              "74/c3FxnlUgkLacFOzw8HFeuXOl2X0/bAWD8+PH48ssvnVUW0YDwVH3dReQqRnMXGvQdMJq7XF2K\n",
              "Qzj9AhWip93XNW3IPHUVLe0GaP00yFw4GbrRQ11dVp9wxqYBzWjuQuapq6i9fR9enh6ovX0fmaeu\n",
              "uv3MzWDTgNbabkRLuwEBPoPg66VGgM8gtLQb0NpudHVpfcJg04A2zM8LWj8N9A9MuG80Q//ABK2f\n",
              "BsP8vFxdWp/YFWyTyYTKykpH10LU77zUHshcOBmjnvGFsbMLo57xRebCyfBSu/ecZ/OHZ1988QWW\n",
              "LFkCtVqN6upqFBcXIycnR7mohMjd6EYPxdFV09HabsQwPy+3DzVgx4y9adMmXLx4EVqtFgAQHx9v\n",
              "9XtpInfgpfZAUIC3FKEG7Ah2Z2cnxo4da7HNy8u9348QycbmYHt7e+PevXtQqVQAgLKyMvj4+Di8\n",
              "MCKyn83vsbdu3Yo5c+agrq4OS5cuxfnz53HkyBFn1EZEdrI52HPmzEFkZCTOnj0LIQS2b9/+xEtz\n",
              "InItuy4pHTNmDFavXu3oWojIQWwO9pgxY5T314+6fv26Qwoior6zOdinT59Wfu7o6MChQ4eUr76I\n",
              "6Olgc7AnT55scT8uLg5JSUnYunWrw4oior7p87fxLS0taGhocEQtROQgNgc7JiYGsbGxiI2NxdSp\n",
              "UzF27FisWLGi22N76vhhrdsHO4EQ9Z3NL8Xfeuut/z1YrUZ4eDiCg4N7PL67jh/Wun2wEwiRAwgn\n",
              "Cg0NFVeuXLHY1tjYKIYMGSJMJpMQQoiuri4xYsQIUV5ebnVfb61bt85h9RO5K5tn7KqqKuzYsQOV\n",
              "lZUwm83K9s8++6zb45ctWwYhBBISEvDGG29Y7fYREBDQ477erivOTiBEdrwU/9WvfoUXX3wRa9as\n",
              "+cE1vAsLCxESEgKTyYQtW7YgPT0dr7/+ut3FPi47Oxvbt2+32JaYmOiw8xO5LVun+OjoaLteGty6\n",
              "dUsMHjzYoS/FOzo6hF6vt7itXbvWrvqIZGLzp+JRUVE9Nsl7VE8dP6x1+2AnECLHsPmleHNzM6ZO\n",
              "nYrp06fD29tb2f7RRx9ZHGet44e1bh/sBCIXo7lLqpVJ3IXNTfnef//9brfb2zHT0davX49du3a5\n",
              "ugyCnOt1uwubZ+zvA2wwGKDRaBxeEMnh0fW6A3wGKet1H101nTN3P7D5X7isrAxRUVHK32D/61//\n",
              "wh//+EeHF0buTdb1ut2FzcH+/e9/j3379mH48OEAgNjYWJw5c8bhhZF7k3W9bndhc7Dv3buHF154\n",
              "QbmvUqm4mCE9Qdb1ut2Fze+x1Wo1TCaTsthCTU0Nv2Kibsm4Xre7sPlfes2aNUhNTUVzczO2bNmC\n",
              "5ORkvsemHsm2Xre7sHnGXrp0KcLDw/Hxxx/DaDTi8OHDFi/Nicj1bA52WVkZkpKSkJSU5Ix6iMgB\n",
              "bH59lJqaivj4eOzdu9fiklEienrYHOzKykrs3LkTRUVFiIiIwEsvvYSCggJn1EZEdrLrE42ZM2fi\n",
              "wIEDuHnzJoYOHYp58+Y5ui4i6gO7GgY0NTXh0KFDyM3NhRACO3bscHRdRNQHNgf7Zz/7Gb766iuk\n",
              "paXhb3/7GxISEpxRFxH1gc3Bfumll/Dhhx9a/MkmET1dbH6PvWTJEpw5cwZZWVkAgLq6OpSVlTm8\n",
              "MCKyn83B/tOf/oR3330XBw4ceHgCDw+sWrXK0XURUR/YHOyPP/4Yp0+fhp+fHwAgODgY9+7dc3hh\n",
              "RGQ/m4Pt4+PzxB99/NAiLLm5uVCpVDh58iSAh1+XjRkzRukQsnv3buXYpqYmzJs3D5GRkYiKikJh\n",
              "YaGtJRINeDZ/eBYaGoqLFy9CpVLBaDQiOzv7iU4fj6qqqsJf//rXJ5YF3r17N1JTU584ftOmTUhM\n",
              "TMTZs2dRXFyMX/ziF7hx4wYGDRpka6lEA5bNM/bbb7+N//u//0NZWRkGDx6Mf/zjH1i7dm23x3Z1\n",
              "dWHFihXYs2dPr5dROnr0KF599VUAQHx8PEaOHIkLFy7YWibRgGZTsEtKSnDp0iV88MEH0Ov1uHz5\n",
              "Mnx8fDB//vxuj9+1axeef/55xMXFPbFv06ZNiI6OxuLFi3H9+nUADzt3mkwmBAUFKceFhYX1uNyx\n",
              "wWDAnTt3LG7sBEJkQ7B37NiBn/zkJ9i5cyemT5+O9957D8899xwiIiJQXl7+xPH//ve/cfz4cWzZ\n",
              "suWJfYcOHcK1a9dQWlqK5ORkLFiwwK7is7OzERAQYHErKiqy61xEUultZ4EJEyaIuro6IYQQ33zz\n",
              "jfD09BTnz5/v8fi9e/eKoKAgERoaKkJDQ4VGoxHDhw8Xe/fufeJYjUYjvvvuOyGEEL6+vqK+vl7Z\n",
              "Fx8fLwoKCrp9DnYCIeper4Ot0+ks7k+cONGmJ0pJSREnTpwQJpNJNDQ0KNuPHTsmQkJClPvp6eli\n",
              "27ZtQgghioqKxMiRI4XRaOz187DbJpEN3TY7OjpQVlamfLUlhLC4P2XKlF6dx2Aw4Kc//SkMBgM8\n",
              "PDwQGBiIU6dOKft37NiBV155BZGRkfDy8sLhw4f5iTiRjXrdCSQsLExZwPCJk6hUygdgrsZOIEQ2\n",
              "fI9dVVXlxDKIyJG4dCSRhBhsIgkx2EQSYrCJJMRgE0mIwSaSEINNJCEGm0hCDDaRhBhsIgkx2EQS\n",
              "YrCJJMRgE0mIwSaSEINNJKF+CfbjDQOsNQVgwwCivnN6sLtrGPB9U4Dy8nLk5uZiyZIlMJlMP7iP\n",
              "iHrHqcHuqWGAtaYAbBhA1Hc2t/ixRXcNA6w1BbCnYYDBYLDYxoYBRE6csa01DHAUNgwg6p7Tgn3x\n",
              "4kVUVVUhMjISYWFh+Oc//4mVK1fi6NGjUKvVaGhoUI6tqqpCSEgItFptj/u6s3nzZuj1eotbQkKC\n",
              "s4ZE5DacFuzVq1ejvr4eVVVVqKqqQmJiIv7yl79g9erVWLRoEfbt2wcAKC4uRl1dHVJSUgDA6r7H\n",
              "aTQa+Pv7W9web/FLNBA59T12T6w1BWDDAKK+63XDAHfBhgFEvPKMSEoMNpGEGGwiCTHYRBJisIkk\n",
              "xGATSYjBJpIQg00kIQabSEIMNpGEGGwiCTHYRBJisIkkxGATSYjBJpIQg00kIQabSEJODfacOXMw\n",
              "ZcoU6HQ6JCcn48qVKwAeLik8fvx46HQ66HQ65OfnK48pLy9HUlISxo0bh/j4eFy9etWZJRLJSTjR\n",
              "7du3lZ8/+ugjMWXKFCGEEKGhoeLKlSvdPmbWrFkiNzdXCCHEhx9+KKZNm2bTc65bt86eUomk4tQZ\n",
              "e+jQocrPer0eKpXK6vFNTU0oKSnB0qVLAQBpaWmoqalBRUWFM8skko7TVyldtmwZPv/8cwDAJ598\n",
              "YrFdCIGEhAS88cYbGD58OGpqahAcHAy1+mFZKpUKISEhqK6uRkRExBPnZicQou45/cOzgwcPoqam\n",
              "Bn/+85+xceNGAEBhYSFKS0tx+fJlBAYGIj093a5zsxMIUff6dflhHx8f1NbWQqvVKtvq6+sxbtw4\n",
              "3L17F01NTYiIiEBrayvUajWEEAgODsalS5d6PWNv3boVOTk5Th8L0dPMaTN2W1sbbt26pdw/efIk\n",
              "tFotvL290dbWpmzPy8tDTEwMAODZZ59FbGwsDh8+DAA4fvw4Ro0a1W2oAXYCIeqJ095j6/V6LFq0\n",
              "CA8ePICHhweGDx+O06dPo7GxEWlpaejs7IQQAuHh4Th48KDyuP379yMjIwNZWVnw9/dHbm6us0ok\n",
              "khY7gRBJiFeeEUmIwSaSEINNJCEGm0hCDDaRhBhsIgkx2EQSYrCJJMRgE0lowAXbaO5Cg74DRnOX\n",
              "q0shchqn/z320+TrmjZknrqKlnYDtH4aZC6cDN3ooa4ui8jhBsyMbTR3IfPUVdTevg8vTw/U3r6P\n",
              "zFNXOXOTlAZMsFvbjWhpNyDAZxB8vdQI8BmElnYDWtuNri6NyOEGTLCH+XlB66eB/oEJ941m6B+Y\n",
              "oPXTYJifl6tLI3K4ARNsL7UHMhdOxqhnfGHs7MKoZ3yRuXAyvNQD5p+ABpAB9eGZbvRQHF01Ha3t\n",
              "Rgzz82KoSVoDKtjAw5k7KMDb1WUQOZVLOoFY6/bBTiBEDuDMbgQ9dQKx1u2DnUCI+q7fO4FY6/bB\n",
              "TiBEjtHvnUCsdfsICAhgJxAiB3B6sL9fWvj999/Hxo0b8frrrzvs3NnZ2di+fbvFtgkTJmD9+vUO\n",
              "ew5n6uzsRFFRERISEtx+PXSZxgI8veMJDQ3FH/7whx88rt87gVRVVSEyMrLbbh/+/v597gSi0Wig\n",
              "0Wj6a0h9cufOHQQEBECv18Pf39/V5fSJTGMB3H88/d4JxFq3D0d0AnGXUBM5U793AlGpVFa7fbAT\n",
              "CFHfSdcJxJ24+8u9R8k0FsD9x8NrKl1Io9Fg27ZtUrx9kGksgPuPhzM2kYQ4YxNJiMEmkhCDTSQh\n",
              "BrufrF27FmFhYVCpVPj666+V7WFhYRg/fjx0Oh10Oh3y8/NdV2QvdXR0IDU1FePGjcPUqVMxe/Zs\n",
              "5Xr+pqYmzJs3D5GRkYiKikJhYaGLq/1h1sYzc+ZMjBkzRvn/2b17t4ur7SXX/f3JwHLhwgVRU1Mj\n",
              "QkNDxZUrV5Ttj993Bw8ePBBnzpwRXV1dQggh9uzZI1JSUoQQQvzmN78R27ZtE0IIUVRUJH70ox8J\n",
              "o9Hookp7x9p4UlJSxIkTJ1xXnJ04Y/eTGTNmYNSoUa4uwyG8vb0xf/58qFQqAEBiYiKqqqoAAEeP\n",
              "HsWrr74KAIiPj8fIkSNx4cIFV5XaK9bG464Y7KfAsmXLEB0djeXLl6O5udnV5dgsJycHP//5z9HS\n",
              "0gKTyYSgoCBlX1hYGKqrq11Yne2+H8/3Nm3ahOjoaCxevBjXr193YWW9x2C7WGFhIUpLS3H58mUE\n",
              "BgYiPT3d1SXZJCsrCxUVFcjOznZ1KQ7x+HgOHTqEa9euobS0FMnJyViwYIGLK+wlV78XGGisvae+\n",
              "deuWGDx4cP8W1Ac7d+4UcXFxFivl+Pr6ivr6euV+fHy8KCgocEF1tutuPI/TaDTiu+++67+i7MQZ\n",
              "24Xa29vR1tam3M/Ly0NMTIzrCrLBrl27kJeXh4KCAouVchYtWoR9+/YBAIqLi1FXV4eUlBQXVdl7\n",
              "3Y3HbDajsbFROeb48eMYMWIEtFqti6rsPV5S2k9WrVqFM2fOoKGhAVqtFkOGDMG5c+eQlpaGzs5O\n",
              "CCEQHh6OnJwchIWFubpcq2prazF69GiEh4djyJAhAB5eW/3VV1+hsbERr7zyCm7cuAEvLy+88847\n",
              "mDVrlosrtq6n8Xz22WdISUmBwWCAh4cHAgMDsWvXLkydOtXFFf8wBptIQnwpTiQhBptIQgy2G/r+\n",
              "8sZJkybB09NTub948WJXl9ZrmZmZ6OjocHUZ0uJ7bDdWVVUFnU5n8cn606Cr62HPcQ+PnucNlUqF\n",
              "27dvW3yi7qhzE2dsqXz66ad44YUXEBcXh4SEBGU99y+++AJRUVFYvXo1pkyZgujoaJSWliIjIwPR\n",
              "0dF47rnnUFdXBwA4cOAAfvzjH2PhwoWYNGkSZsyYYXF55ZtvvomEhATExsZi3rx5uHnzJoCHM3Ba\n",
              "Whrmzp2LqKgo1NfXY8OGDYiPj4dOp8OMGTPw3//+FwCUS06Tk5Oh0+nQ1NSEjIwMvPXWW8rzbNiw\n",
              "AZmZmT2eu6ex0v/nwu/QqY9u3LghAgIChBBCVFZWisTERKHX64UQQpSXl4ugoCDR0dEhPv/8c+Hp\n",
              "6SlKSkqEEEJs2bJFaLVa8c033wghhPjd734nNmzYIIQQIjc3V3h5eYn//Oc/QgghduzYIWbPni2E\n",
              "EOKDDz4QK1asEGazWQghxMGDB8X8+fOFEEJs27ZNBAcHi4aGBqW+pqYm5ee8vDwxd+5c5T4AiwtB\n",
              "0tPTxe7du5X7r732mvLHJI+f29pY6aEB121TVmfPnkVFRQVmzJihbPPw8FCu046IiEBcXBwAYNq0\n",
              "aYiIiMCECRMAAAkJCThx4oTyuKSkJEycOBEAsHLlSmzZsgWdnZ04efIkiouLlfM83nVl/vz5GDFi\n",
              "hHK/oKAAe/bswd27d9HV1YXW1la7x/foua2NNTIy0u7nkAmDLQkhBGbPno0jR448sa+urg7e3v9r\n",
              "Hezp6fnEfbPZ3Kvn2Lx5M1auXNnt/sGDBys/V1dXY82aNSguLsbYsWNRWlpqEcTHqdVqi18UHR0d\n",
              "Fud79GdrY6WH+B5bEnPnzsX58+dRWlqqbCsqKrLrXF9++SWuXbsGAHj33Xcxa9YseHp6IjU1Ffv2\n",
              "7VNmXpPJpLRGfpxer8egQYMQHBwMIQTeeecdi/1DhgyBXq9X7kdERCj1trS04JNPPumXscqKM7Yk\n",
              "IiIicOTIEaxatQr379+H0WhETEyMXbNaUlISNm7ciIqKCmi1WqX/2ssvv4yWlhblElGz2Yzf/va3\n",
              "3V7fHh0djV//+teYPHkytFotUlNTLfa/9tprmD17Nnx9fXHu3DmsXLkSv/zlLzFx4kSEh4cjMTGx\n",
              "X8YqK37dRRYOHDiAkydP4uTJk64uhfqAL8WJJMQZm0hCnLGJJMRgE0mIwSaSEINNJCEGm0hCDDaR\n",
              "hBhsIgkx2EQSYrCJJPT/ALMkx2QngIXfAAAAAElFTkSuQmCC\n",
              "\">\n",
              "        \n",
              "      </div>\n",
              "      <script></script>\n",
              "      <script type=\"text/javascript\">\n",
              "        (() => {\n",
              "          const chartElement = document.getElementById(\"chart-a04da098-488c-4169-b66f-3d0065c71550\");\n",
              "          async function getCodeForChartHandler(event) {\n",
              "            const chartCodeResponse =  await google.colab.kernel.invokeFunction(\n",
              "                'getCodeForChart', [\"chart-a04da098-488c-4169-b66f-3d0065c71550\"], {});\n",
              "            const responseJson = chartCodeResponse.data['application/json'];\n",
              "            await google.colab.notebook.addCell(responseJson.code, 'code');\n",
              "          }\n",
              "          chartElement.onclick = getCodeForChartHandler;\n",
              "        })();\n",
              "      </script>\n",
              "      <style>\n",
              "        .colab-quickchart-chart-with-code  {\n",
              "            display: block;\n",
              "            float: left;\n",
              "            border: 1px solid transparent;\n",
              "        }\n",
              "\n",
              "        .colab-quickchart-chart-with-code:hover {\n",
              "            cursor: pointer;\n",
              "            border: 1px solid #aaa;\n",
              "        }\n",
              "      </style>"
            ]
          },
          "metadata": {}
        }
      ]
    },
    {
      "cell_type": "code",
      "source": [
        "icecream.info()"
      ],
      "metadata": {
        "colab": {
          "base_uri": "https://localhost:8080/"
        },
        "id": "RMtvVI7-PenQ",
        "outputId": "b049894b-7e71-4970-fff9-53dda473c21d"
      },
      "execution_count": 4,
      "outputs": [
        {
          "output_type": "stream",
          "name": "stdout",
          "text": [
            "<class 'pandas.core.frame.DataFrame'>\n",
            "RangeIndex: 500 entries, 0 to 499\n",
            "Data columns (total 2 columns):\n",
            " #   Column       Non-Null Count  Dtype  \n",
            "---  ------       --------------  -----  \n",
            " 0   Temperature  500 non-null    float64\n",
            " 1   Revenue      500 non-null    int64  \n",
            "dtypes: float64(1), int64(1)\n",
            "memory usage: 7.9 KB\n"
          ]
        }
      ]
    },
    {
      "cell_type": "code",
      "source": [
        "icecream.describe()"
      ],
      "metadata": {
        "colab": {
          "base_uri": "https://localhost:8080/",
          "height": 300
        },
        "id": "5nN8-jSFPmT1",
        "outputId": "e1fc0cdb-0d17-4ba0-e0d3-4542d48f4e9f"
      },
      "execution_count": 5,
      "outputs": [
        {
          "output_type": "execute_result",
          "data": {
            "text/plain": [
              "       Temperature      Revenue\n",
              "count   500.000000   500.000000\n",
              "mean     22.281600   522.058000\n",
              "std       8.097597   175.410399\n",
              "min       0.000000    10.000000\n",
              "25%      17.175000   406.000000\n",
              "50%      22.400000   530.000000\n",
              "75%      27.800000   643.000000\n",
              "max      45.000000  1000.000000"
            ],
            "text/html": [
              "\n",
              "  <div id=\"df-0af896e0-6ac0-467f-ae36-e96bb088d9c2\" class=\"colab-df-container\">\n",
              "    <div>\n",
              "<style scoped>\n",
              "    .dataframe tbody tr th:only-of-type {\n",
              "        vertical-align: middle;\n",
              "    }\n",
              "\n",
              "    .dataframe tbody tr th {\n",
              "        vertical-align: top;\n",
              "    }\n",
              "\n",
              "    .dataframe thead th {\n",
              "        text-align: right;\n",
              "    }\n",
              "</style>\n",
              "<table border=\"1\" class=\"dataframe\">\n",
              "  <thead>\n",
              "    <tr style=\"text-align: right;\">\n",
              "      <th></th>\n",
              "      <th>Temperature</th>\n",
              "      <th>Revenue</th>\n",
              "    </tr>\n",
              "  </thead>\n",
              "  <tbody>\n",
              "    <tr>\n",
              "      <th>count</th>\n",
              "      <td>500.000000</td>\n",
              "      <td>500.000000</td>\n",
              "    </tr>\n",
              "    <tr>\n",
              "      <th>mean</th>\n",
              "      <td>22.281600</td>\n",
              "      <td>522.058000</td>\n",
              "    </tr>\n",
              "    <tr>\n",
              "      <th>std</th>\n",
              "      <td>8.097597</td>\n",
              "      <td>175.410399</td>\n",
              "    </tr>\n",
              "    <tr>\n",
              "      <th>min</th>\n",
              "      <td>0.000000</td>\n",
              "      <td>10.000000</td>\n",
              "    </tr>\n",
              "    <tr>\n",
              "      <th>25%</th>\n",
              "      <td>17.175000</td>\n",
              "      <td>406.000000</td>\n",
              "    </tr>\n",
              "    <tr>\n",
              "      <th>50%</th>\n",
              "      <td>22.400000</td>\n",
              "      <td>530.000000</td>\n",
              "    </tr>\n",
              "    <tr>\n",
              "      <th>75%</th>\n",
              "      <td>27.800000</td>\n",
              "      <td>643.000000</td>\n",
              "    </tr>\n",
              "    <tr>\n",
              "      <th>max</th>\n",
              "      <td>45.000000</td>\n",
              "      <td>1000.000000</td>\n",
              "    </tr>\n",
              "  </tbody>\n",
              "</table>\n",
              "</div>\n",
              "    <div class=\"colab-df-buttons\">\n",
              "\n",
              "  <div class=\"colab-df-container\">\n",
              "    <button class=\"colab-df-convert\" onclick=\"convertToInteractive('df-0af896e0-6ac0-467f-ae36-e96bb088d9c2')\"\n",
              "            title=\"Convert this dataframe to an interactive table.\"\n",
              "            style=\"display:none;\">\n",
              "\n",
              "  <svg xmlns=\"http://www.w3.org/2000/svg\" height=\"24px\" viewBox=\"0 -960 960 960\">\n",
              "    <path d=\"M120-120v-720h720v720H120Zm60-500h600v-160H180v160Zm220 220h160v-160H400v160Zm0 220h160v-160H400v160ZM180-400h160v-160H180v160Zm440 0h160v-160H620v160ZM180-180h160v-160H180v160Zm440 0h160v-160H620v160Z\"/>\n",
              "  </svg>\n",
              "    </button>\n",
              "\n",
              "  <style>\n",
              "    .colab-df-container {\n",
              "      display:flex;\n",
              "      gap: 12px;\n",
              "    }\n",
              "\n",
              "    .colab-df-convert {\n",
              "      background-color: #E8F0FE;\n",
              "      border: none;\n",
              "      border-radius: 50%;\n",
              "      cursor: pointer;\n",
              "      display: none;\n",
              "      fill: #1967D2;\n",
              "      height: 32px;\n",
              "      padding: 0 0 0 0;\n",
              "      width: 32px;\n",
              "    }\n",
              "\n",
              "    .colab-df-convert:hover {\n",
              "      background-color: #E2EBFA;\n",
              "      box-shadow: 0px 1px 2px rgba(60, 64, 67, 0.3), 0px 1px 3px 1px rgba(60, 64, 67, 0.15);\n",
              "      fill: #174EA6;\n",
              "    }\n",
              "\n",
              "    .colab-df-buttons div {\n",
              "      margin-bottom: 4px;\n",
              "    }\n",
              "\n",
              "    [theme=dark] .colab-df-convert {\n",
              "      background-color: #3B4455;\n",
              "      fill: #D2E3FC;\n",
              "    }\n",
              "\n",
              "    [theme=dark] .colab-df-convert:hover {\n",
              "      background-color: #434B5C;\n",
              "      box-shadow: 0px 1px 3px 1px rgba(0, 0, 0, 0.15);\n",
              "      filter: drop-shadow(0px 1px 2px rgba(0, 0, 0, 0.3));\n",
              "      fill: #FFFFFF;\n",
              "    }\n",
              "  </style>\n",
              "\n",
              "    <script>\n",
              "      const buttonEl =\n",
              "        document.querySelector('#df-0af896e0-6ac0-467f-ae36-e96bb088d9c2 button.colab-df-convert');\n",
              "      buttonEl.style.display =\n",
              "        google.colab.kernel.accessAllowed ? 'block' : 'none';\n",
              "\n",
              "      async function convertToInteractive(key) {\n",
              "        const element = document.querySelector('#df-0af896e0-6ac0-467f-ae36-e96bb088d9c2');\n",
              "        const dataTable =\n",
              "          await google.colab.kernel.invokeFunction('convertToInteractive',\n",
              "                                                    [key], {});\n",
              "        if (!dataTable) return;\n",
              "\n",
              "        const docLinkHtml = 'Like what you see? Visit the ' +\n",
              "          '<a target=\"_blank\" href=https://colab.research.google.com/notebooks/data_table.ipynb>data table notebook</a>'\n",
              "          + ' to learn more about interactive tables.';\n",
              "        element.innerHTML = '';\n",
              "        dataTable['output_type'] = 'display_data';\n",
              "        await google.colab.output.renderOutput(dataTable, element);\n",
              "        const docLink = document.createElement('div');\n",
              "        docLink.innerHTML = docLinkHtml;\n",
              "        element.appendChild(docLink);\n",
              "      }\n",
              "    </script>\n",
              "  </div>\n",
              "\n",
              "\n",
              "<div id=\"df-feed1f55-754c-436d-a754-d3cbacadd3f5\">\n",
              "  <button class=\"colab-df-quickchart\" onclick=\"quickchart('df-feed1f55-754c-436d-a754-d3cbacadd3f5')\"\n",
              "            title=\"Suggest charts.\"\n",
              "            style=\"display:none;\">\n",
              "\n",
              "<svg xmlns=\"http://www.w3.org/2000/svg\" height=\"24px\"viewBox=\"0 0 24 24\"\n",
              "     width=\"24px\">\n",
              "    <g>\n",
              "        <path d=\"M19 3H5c-1.1 0-2 .9-2 2v14c0 1.1.9 2 2 2h14c1.1 0 2-.9 2-2V5c0-1.1-.9-2-2-2zM9 17H7v-7h2v7zm4 0h-2V7h2v10zm4 0h-2v-4h2v4z\"/>\n",
              "    </g>\n",
              "</svg>\n",
              "  </button>\n",
              "\n",
              "<style>\n",
              "  .colab-df-quickchart {\n",
              "    background-color: #E8F0FE;\n",
              "    border: none;\n",
              "    border-radius: 50%;\n",
              "    cursor: pointer;\n",
              "    display: none;\n",
              "    fill: #1967D2;\n",
              "    height: 32px;\n",
              "    padding: 0 0 0 0;\n",
              "    width: 32px;\n",
              "  }\n",
              "\n",
              "  .colab-df-quickchart:hover {\n",
              "    background-color: #E2EBFA;\n",
              "    box-shadow: 0px 1px 2px rgba(60, 64, 67, 0.3), 0px 1px 3px 1px rgba(60, 64, 67, 0.15);\n",
              "    fill: #174EA6;\n",
              "  }\n",
              "\n",
              "  [theme=dark] .colab-df-quickchart {\n",
              "    background-color: #3B4455;\n",
              "    fill: #D2E3FC;\n",
              "  }\n",
              "\n",
              "  [theme=dark] .colab-df-quickchart:hover {\n",
              "    background-color: #434B5C;\n",
              "    box-shadow: 0px 1px 3px 1px rgba(0, 0, 0, 0.15);\n",
              "    filter: drop-shadow(0px 1px 2px rgba(0, 0, 0, 0.3));\n",
              "    fill: #FFFFFF;\n",
              "  }\n",
              "</style>\n",
              "\n",
              "  <script>\n",
              "    async function quickchart(key) {\n",
              "      const charts = await google.colab.kernel.invokeFunction(\n",
              "          'suggestCharts', [key], {});\n",
              "    }\n",
              "    (() => {\n",
              "      let quickchartButtonEl =\n",
              "        document.querySelector('#df-feed1f55-754c-436d-a754-d3cbacadd3f5 button');\n",
              "      quickchartButtonEl.style.display =\n",
              "        google.colab.kernel.accessAllowed ? 'block' : 'none';\n",
              "    })();\n",
              "  </script>\n",
              "</div>\n",
              "    </div>\n",
              "  </div>\n"
            ]
          },
          "metadata": {},
          "execution_count": 5
        }
      ]
    },
    {
      "cell_type": "code",
      "source": [
        "# step 3: define target(y) and features(x)\n",
        "icecream.columns"
      ],
      "metadata": {
        "colab": {
          "base_uri": "https://localhost:8080/"
        },
        "id": "riyBOn-KPtiN",
        "outputId": "a19a1430-cb20-422f-95f8-ca87f5a594e3"
      },
      "execution_count": 6,
      "outputs": [
        {
          "output_type": "execute_result",
          "data": {
            "text/plain": [
              "Index(['Temperature', 'Revenue'], dtype='object')"
            ]
          },
          "metadata": {},
          "execution_count": 6
        }
      ]
    },
    {
      "cell_type": "code",
      "source": [
        "y = icecream['Revenue']"
      ],
      "metadata": {
        "id": "zK-2Q6ujP_tD"
      },
      "execution_count": 8,
      "outputs": []
    },
    {
      "cell_type": "code",
      "source": [
        "x = icecream[['Temperature']]"
      ],
      "metadata": {
        "id": "yCdQQZbxQQDC"
      },
      "execution_count": 9,
      "outputs": []
    },
    {
      "cell_type": "code",
      "source": [
        "# step 4: train test split\n",
        "from sklearn.model_selection import train_test_split\n",
        "x_train,x_test,y_train,y_test = train_test_split(x,y,train_size=0.7,random_state=2529)"
      ],
      "metadata": {
        "id": "r_UxPpbEQW3q"
      },
      "execution_count": 11,
      "outputs": []
    },
    {
      "cell_type": "code",
      "source": [
        "# check shape of train and test sample\n",
        "x_train.shape, x_test.shape, y_train.shape, y_test.shape"
      ],
      "metadata": {
        "colab": {
          "base_uri": "https://localhost:8080/"
        },
        "id": "vxebXnxKRG3v",
        "outputId": "e64cd96b-f9e6-4fba-987b-3b8c0651db5e"
      },
      "execution_count": 14,
      "outputs": [
        {
          "output_type": "execute_result",
          "data": {
            "text/plain": [
              "((350, 1), (150, 1), (350,), (150,))"
            ]
          },
          "metadata": {},
          "execution_count": 14
        }
      ]
    },
    {
      "cell_type": "code",
      "source": [
        "# step 5: select model\n",
        "from sklearn.linear_model import LinearRegression\n",
        "model = LinearRegression()"
      ],
      "metadata": {
        "id": "7gvdi19ORwDb"
      },
      "execution_count": 16,
      "outputs": []
    },
    {
      "cell_type": "code",
      "source": [
        "# step 6: train or fit model\n",
        "model.fit(x_train,y_train)"
      ],
      "metadata": {
        "colab": {
          "base_uri": "https://localhost:8080/",
          "height": 74
        },
        "id": "jJpNEQ6wS7tX",
        "outputId": "dc411e4b-d263-482b-d7c4-7e2c05879908"
      },
      "execution_count": 17,
      "outputs": [
        {
          "output_type": "execute_result",
          "data": {
            "text/plain": [
              "LinearRegression()"
            ],
            "text/html": [
              "<style>#sk-container-id-1 {color: black;background-color: white;}#sk-container-id-1 pre{padding: 0;}#sk-container-id-1 div.sk-toggleable {background-color: white;}#sk-container-id-1 label.sk-toggleable__label {cursor: pointer;display: block;width: 100%;margin-bottom: 0;padding: 0.3em;box-sizing: border-box;text-align: center;}#sk-container-id-1 label.sk-toggleable__label-arrow:before {content: \"▸\";float: left;margin-right: 0.25em;color: #696969;}#sk-container-id-1 label.sk-toggleable__label-arrow:hover:before {color: black;}#sk-container-id-1 div.sk-estimator:hover label.sk-toggleable__label-arrow:before {color: black;}#sk-container-id-1 div.sk-toggleable__content {max-height: 0;max-width: 0;overflow: hidden;text-align: left;background-color: #f0f8ff;}#sk-container-id-1 div.sk-toggleable__content pre {margin: 0.2em;color: black;border-radius: 0.25em;background-color: #f0f8ff;}#sk-container-id-1 input.sk-toggleable__control:checked~div.sk-toggleable__content {max-height: 200px;max-width: 100%;overflow: auto;}#sk-container-id-1 input.sk-toggleable__control:checked~label.sk-toggleable__label-arrow:before {content: \"▾\";}#sk-container-id-1 div.sk-estimator input.sk-toggleable__control:checked~label.sk-toggleable__label {background-color: #d4ebff;}#sk-container-id-1 div.sk-label input.sk-toggleable__control:checked~label.sk-toggleable__label {background-color: #d4ebff;}#sk-container-id-1 input.sk-hidden--visually {border: 0;clip: rect(1px 1px 1px 1px);clip: rect(1px, 1px, 1px, 1px);height: 1px;margin: -1px;overflow: hidden;padding: 0;position: absolute;width: 1px;}#sk-container-id-1 div.sk-estimator {font-family: monospace;background-color: #f0f8ff;border: 1px dotted black;border-radius: 0.25em;box-sizing: border-box;margin-bottom: 0.5em;}#sk-container-id-1 div.sk-estimator:hover {background-color: #d4ebff;}#sk-container-id-1 div.sk-parallel-item::after {content: \"\";width: 100%;border-bottom: 1px solid gray;flex-grow: 1;}#sk-container-id-1 div.sk-label:hover label.sk-toggleable__label {background-color: #d4ebff;}#sk-container-id-1 div.sk-serial::before {content: \"\";position: absolute;border-left: 1px solid gray;box-sizing: border-box;top: 0;bottom: 0;left: 50%;z-index: 0;}#sk-container-id-1 div.sk-serial {display: flex;flex-direction: column;align-items: center;background-color: white;padding-right: 0.2em;padding-left: 0.2em;position: relative;}#sk-container-id-1 div.sk-item {position: relative;z-index: 1;}#sk-container-id-1 div.sk-parallel {display: flex;align-items: stretch;justify-content: center;background-color: white;position: relative;}#sk-container-id-1 div.sk-item::before, #sk-container-id-1 div.sk-parallel-item::before {content: \"\";position: absolute;border-left: 1px solid gray;box-sizing: border-box;top: 0;bottom: 0;left: 50%;z-index: -1;}#sk-container-id-1 div.sk-parallel-item {display: flex;flex-direction: column;z-index: 1;position: relative;background-color: white;}#sk-container-id-1 div.sk-parallel-item:first-child::after {align-self: flex-end;width: 50%;}#sk-container-id-1 div.sk-parallel-item:last-child::after {align-self: flex-start;width: 50%;}#sk-container-id-1 div.sk-parallel-item:only-child::after {width: 0;}#sk-container-id-1 div.sk-dashed-wrapped {border: 1px dashed gray;margin: 0 0.4em 0.5em 0.4em;box-sizing: border-box;padding-bottom: 0.4em;background-color: white;}#sk-container-id-1 div.sk-label label {font-family: monospace;font-weight: bold;display: inline-block;line-height: 1.2em;}#sk-container-id-1 div.sk-label-container {text-align: center;}#sk-container-id-1 div.sk-container {/* jupyter's `normalize.less` sets `[hidden] { display: none; }` but bootstrap.min.css set `[hidden] { display: none !important; }` so we also need the `!important` here to be able to override the default hidden behavior on the sphinx rendered scikit-learn.org. See: https://github.com/scikit-learn/scikit-learn/issues/21755 */display: inline-block !important;position: relative;}#sk-container-id-1 div.sk-text-repr-fallback {display: none;}</style><div id=\"sk-container-id-1\" class=\"sk-top-container\"><div class=\"sk-text-repr-fallback\"><pre>LinearRegression()</pre><b>In a Jupyter environment, please rerun this cell to show the HTML representation or trust the notebook. <br />On GitHub, the HTML representation is unable to render, please try loading this page with nbviewer.org.</b></div><div class=\"sk-container\" hidden><div class=\"sk-item\"><div class=\"sk-estimator sk-toggleable\"><input class=\"sk-toggleable__control sk-hidden--visually\" id=\"sk-estimator-id-1\" type=\"checkbox\" checked><label for=\"sk-estimator-id-1\" class=\"sk-toggleable__label sk-toggleable__label-arrow\">LinearRegression</label><div class=\"sk-toggleable__content\"><pre>LinearRegression()</pre></div></div></div></div></div>"
            ]
          },
          "metadata": {},
          "execution_count": 17
        }
      ]
    },
    {
      "cell_type": "code",
      "source": [
        "model.intercept_"
      ],
      "metadata": {
        "colab": {
          "base_uri": "https://localhost:8080/"
        },
        "id": "cVDXVn8-TTZC",
        "outputId": "2cfb71c7-edad-4d70-85d8-36eb4ad6aa01"
      },
      "execution_count": 18,
      "outputs": [
        {
          "output_type": "execute_result",
          "data": {
            "text/plain": [
              "42.444772590839705"
            ]
          },
          "metadata": {},
          "execution_count": 18
        }
      ]
    },
    {
      "cell_type": "code",
      "source": [
        "model.coef_"
      ],
      "metadata": {
        "colab": {
          "base_uri": "https://localhost:8080/"
        },
        "id": "aYc6ovyTTYgg",
        "outputId": "3bb42463-71a0-4594-99eb-f38e3700ae28"
      },
      "execution_count": 19,
      "outputs": [
        {
          "output_type": "execute_result",
          "data": {
            "text/plain": [
              "array([21.54587147])"
            ]
          },
          "metadata": {},
          "execution_count": 19
        }
      ]
    },
    {
      "cell_type": "code",
      "source": [
        "# step 7: predict model\n",
        "y_pred = model.predict(x_test)"
      ],
      "metadata": {
        "id": "217CU7NRTfx6"
      },
      "execution_count": 20,
      "outputs": []
    },
    {
      "cell_type": "code",
      "source": [
        "y_pred"
      ],
      "metadata": {
        "colab": {
          "base_uri": "https://localhost:8080/"
        },
        "id": "h2KLcjbATwrZ",
        "outputId": "bcbcbeba-37d8-4384-b5c4-311c9751c664"
      },
      "execution_count": 21,
      "outputs": [
        {
          "output_type": "execute_result",
          "data": {
            "text/plain": [
              "array([645.7291738 , 380.7149547 , 180.33835001, 247.13055157,\n",
              "       415.18834905, 283.75853308, 372.09660611, 671.58421957,\n",
              "       675.89339386, 684.51174245, 531.536055  , 613.41036659,\n",
              "       361.32367037, 303.1498174 , 158.79247854, 473.36220203,\n",
              "       611.25577945, 615.56495374, 512.14477068, 805.16862269,\n",
              "       268.67642305, 441.04339482, 436.73422053, 861.18788852,\n",
              "       531.536055  , 216.96633151, 725.44889825, 311.76816599,\n",
              "       505.68100924, 466.89844059, 684.51174245, 960.29889729,\n",
              "       550.92733933, 615.56495374, 367.78743182, 404.41541332,\n",
              "       413.03376191, 662.96587098, 876.26999855, 544.46357788,\n",
              "       811.63238414, 686.6663296 , 486.28972491, 322.54110172,\n",
              "       637.11082521, 798.70486125, 438.88880767, 790.08651266,\n",
              "       684.51174245, 497.06266065, 380.7149547 , 479.82596347,\n",
              "       479.82596347, 563.85486221, 665.12045813, 453.9709177 ,\n",
              "       688.82091675, 647.88376095, 391.48789043, 662.96587098,\n",
              "       507.83559638, 309.61357884, 397.95165188, 199.72963434,\n",
              "       387.17871614, 658.65669669, 441.04339482, 395.79706473,\n",
              "       652.19293524, 841.7966042 , 581.09155939, 352.70532179,\n",
              "       734.06724684, 350.55073464, 253.59431301, 449.66174341,\n",
              "       637.11082521, 135.09201992, 594.01908227, 669.42963242,\n",
              "       699.59385248, 598.32825656, 469.05302773, 912.89798005,\n",
              "       697.43926533, 835.33284275, 527.22688071, 902.12504432,\n",
              "       352.70532179, 423.80669764, 591.86449512, 656.50210954,\n",
              "       548.77275218, 188.9566986 , 641.41999951, 641.41999951,\n",
              "       572.4732108 , 486.28972491, 469.05302773, 632.80165092,\n",
              "       512.14477068, 292.37688166, 729.75807254, 477.67137632,\n",
              "        63.99064406, 395.79706473, 591.86449512, 469.05302773,\n",
              "       568.1640365 , 602.63743086, 736.22183398, 492.75348635,\n",
              "       337.62321175, 656.50210954, 423.80669764, 313.92275314,\n",
              "       458.280092  , 419.49752335, 456.12550485, 559.54568791,\n",
              "       522.91770641, 206.19339578, 742.68559543, 673.73880672,\n",
              "       367.78743182, 690.97550389, 712.52137536, 520.76311927,\n",
              "       309.61357884, 626.33788948, 803.01403555, 576.78238509,\n",
              "       738.37642113, 645.7291738 , 453.9709177 , 578.93697224,\n",
              "       566.00944936, 589.70990798, 447.50715626, 434.57963338,\n",
              "       555.23651362, 509.99018353, 641.41999951, 475.51678917,\n",
              "       441.04339482, 703.90302678, 410.87917476, 462.58926629,\n",
              "       410.87917476, 305.30440455])"
            ]
          },
          "metadata": {},
          "execution_count": 21
        }
      ]
    },
    {
      "cell_type": "code",
      "source": [
        "# step 8: model accuracy\n",
        "from sklearn.metrics import mean_absolute_error, mean_absolute_percentage_error,mean_squared_error"
      ],
      "metadata": {
        "id": "FV3AI72tT0ug"
      },
      "execution_count": 22,
      "outputs": []
    },
    {
      "cell_type": "code",
      "source": [
        "mean_absolute_error(y_test,y_pred)"
      ],
      "metadata": {
        "colab": {
          "base_uri": "https://localhost:8080/"
        },
        "id": "D8N25BnoUOtE",
        "outputId": "2bdfe8ce-1304-4783-912b-9c4cd90f6f8c"
      },
      "execution_count": 23,
      "outputs": [
        {
          "output_type": "execute_result",
          "data": {
            "text/plain": [
              "19.138687444270737"
            ]
          },
          "metadata": {},
          "execution_count": 23
        }
      ]
    },
    {
      "cell_type": "code",
      "source": [
        "mean_absolute_percentage_error(y_test,y_pred)"
      ],
      "metadata": {
        "colab": {
          "base_uri": "https://localhost:8080/"
        },
        "id": "YTXpLUqlUWnI",
        "outputId": "bbc3bf07-a44a-474c-9e0c-52289a5ede63"
      },
      "execution_count": 24,
      "outputs": [
        {
          "output_type": "execute_result",
          "data": {
            "text/plain": [
              "0.042214848219420134"
            ]
          },
          "metadata": {},
          "execution_count": 24
        }
      ]
    },
    {
      "cell_type": "code",
      "source": [
        "mean_squared_error(y_test,y_pred)"
      ],
      "metadata": {
        "colab": {
          "base_uri": "https://localhost:8080/"
        },
        "id": "hYL77Ul9UlqK",
        "outputId": "bb684896-38db-4d6e-8eef-eb3decea0b2d"
      },
      "execution_count": 25,
      "outputs": [
        {
          "output_type": "execute_result",
          "data": {
            "text/plain": [
              "583.7362763558341"
            ]
          },
          "metadata": {},
          "execution_count": 25
        }
      ]
    }
  ]
}